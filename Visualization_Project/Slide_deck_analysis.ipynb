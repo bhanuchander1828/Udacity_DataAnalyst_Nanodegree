{
 "cells": [
  {
   "cell_type": "markdown",
   "metadata": {
    "slideshow": {
     "slide_type": "slide"
    }
   },
   "source": [
    "# Visualization - FordGoBike Data\n",
    "\n",
    "### Bhanu Chander Kureti"
   ]
  },
  {
   "cell_type": "markdown",
   "metadata": {
    "slideshow": {
     "slide_type": "slide"
    }
   },
   "source": [
    "## Investigation Overview\n",
    "\n",
    "In this investigation, we will find the customer relationship, how user attributes, starting , ending locations imapcting business. This analysis also helps the company to know in which field they have to keep focus.\n",
    "\n",
    "## Dataset Overview\n",
    "\n",
    "The data consists of 36921 rows with 15 columns. It contains the information regarding:\n",
    "- distance travelled\n",
    "- type of user\n",
    "- when and where riders start the trip\n",
    "- when and where riders ends the trip \n",
    "- Gender and birthdate etc"
   ]
  },
  {
   "cell_type": "markdown",
   "metadata": {
    "slideshow": {
     "slide_type": "slide"
    }
   },
   "source": [
    "### Dataset Source :\n",
    "> source : https://www.lyft.com/bikes/bay-wheels/system-data"
   ]
  },
  {
   "cell_type": "code",
   "execution_count": 1,
   "metadata": {
    "slideshow": {
     "slide_type": "skip"
    }
   },
   "outputs": [
    {
     "name": "stderr",
     "output_type": "stream",
     "text": [
      "/Users/bhanuchanderkureti/opt/anaconda3/lib/python3.7/site-packages/statsmodels/tools/_testing.py:19: FutureWarning: pandas.util.testing is deprecated. Use the functions in the public API at pandas.testing instead.\n",
      "  import pandas.util.testing as tm\n"
     ]
    }
   ],
   "source": [
    "# import all packages and set plots to be embedded inline\n",
    "import numpy as np\n",
    "import pandas as pd\n",
    "import matplotlib.pyplot as plt\n",
    "%matplotlib inline\n",
    "import seaborn as sns\n",
    "import pandas.util.testing as tm\n",
    "from datetime import datetime\n",
    "import glob\n",
    "import os\n",
    "import datetime\n",
    "\n",
    "# suppress warnings from final output\n",
    "import warnings\n",
    "warnings.simplefilter(\"ignore\")"
   ]
  },
  {
   "cell_type": "code",
   "execution_count": 2,
   "metadata": {
    "slideshow": {
     "slide_type": "skip"
    }
   },
   "outputs": [
    {
     "data": {
      "text/html": [
       "<div>\n",
       "<style scoped>\n",
       "    .dataframe tbody tr th:only-of-type {\n",
       "        vertical-align: middle;\n",
       "    }\n",
       "\n",
       "    .dataframe tbody tr th {\n",
       "        vertical-align: top;\n",
       "    }\n",
       "\n",
       "    .dataframe thead th {\n",
       "        text-align: right;\n",
       "    }\n",
       "</style>\n",
       "<table border=\"1\" class=\"dataframe\">\n",
       "  <thead>\n",
       "    <tr style=\"text-align: right;\">\n",
       "      <th></th>\n",
       "      <th>tripduration</th>\n",
       "      <th>starttime</th>\n",
       "      <th>stoptime</th>\n",
       "      <th>start_station_id</th>\n",
       "      <th>start_station_name</th>\n",
       "      <th>start_station_latitude</th>\n",
       "      <th>start_station_longitude</th>\n",
       "      <th>end_station_id</th>\n",
       "      <th>end_station_name</th>\n",
       "      <th>end_station_latitude</th>\n",
       "      <th>...</th>\n",
       "      <th>birth_year</th>\n",
       "      <th>gender</th>\n",
       "      <th>distance_miles</th>\n",
       "      <th>start_date</th>\n",
       "      <th>month</th>\n",
       "      <th>day</th>\n",
       "      <th>start_hourofday</th>\n",
       "      <th>user_age</th>\n",
       "      <th>duration_minutes</th>\n",
       "      <th>speed</th>\n",
       "    </tr>\n",
       "  </thead>\n",
       "  <tbody>\n",
       "    <tr>\n",
       "      <th>0</th>\n",
       "      <td>122</td>\n",
       "      <td>2020-06-01 00:02:21.750</td>\n",
       "      <td>2020-06-01 00:04:24.325</td>\n",
       "      <td>3792</td>\n",
       "      <td>Columbus Dr at Exchange Pl</td>\n",
       "      <td>40.716870</td>\n",
       "      <td>-74.032810</td>\n",
       "      <td>3639</td>\n",
       "      <td>Harborside</td>\n",
       "      <td>40.719252</td>\n",
       "      <td>...</td>\n",
       "      <td>1987</td>\n",
       "      <td>Male</td>\n",
       "      <td>0.180668</td>\n",
       "      <td>NaN</td>\n",
       "      <td>June</td>\n",
       "      <td>Monday</td>\n",
       "      <td>0</td>\n",
       "      <td>33</td>\n",
       "      <td>2.03</td>\n",
       "      <td>5.34</td>\n",
       "    </tr>\n",
       "    <tr>\n",
       "      <th>1</th>\n",
       "      <td>1282</td>\n",
       "      <td>2020-06-01 00:12:27.109</td>\n",
       "      <td>2020-06-01 00:33:50.054</td>\n",
       "      <td>3198</td>\n",
       "      <td>Heights Elevator</td>\n",
       "      <td>40.748716</td>\n",
       "      <td>-74.040443</td>\n",
       "      <td>3276</td>\n",
       "      <td>Marin Light Rail</td>\n",
       "      <td>40.714584</td>\n",
       "      <td>...</td>\n",
       "      <td>1988</td>\n",
       "      <td>Male</td>\n",
       "      <td>2.361559</td>\n",
       "      <td>NaN</td>\n",
       "      <td>June</td>\n",
       "      <td>Monday</td>\n",
       "      <td>0</td>\n",
       "      <td>32</td>\n",
       "      <td>21.37</td>\n",
       "      <td>6.63</td>\n",
       "    </tr>\n",
       "    <tr>\n",
       "      <th>2</th>\n",
       "      <td>186</td>\n",
       "      <td>2020-06-01 01:19:59.209</td>\n",
       "      <td>2020-06-01 01:23:05.893</td>\n",
       "      <td>3275</td>\n",
       "      <td>Columbus Drive</td>\n",
       "      <td>40.718355</td>\n",
       "      <td>-74.038914</td>\n",
       "      <td>3681</td>\n",
       "      <td>Grand St</td>\n",
       "      <td>40.715178</td>\n",
       "      <td>...</td>\n",
       "      <td>1987</td>\n",
       "      <td>Male</td>\n",
       "      <td>0.228816</td>\n",
       "      <td>NaN</td>\n",
       "      <td>June</td>\n",
       "      <td>Monday</td>\n",
       "      <td>1</td>\n",
       "      <td>33</td>\n",
       "      <td>3.10</td>\n",
       "      <td>4.43</td>\n",
       "    </tr>\n",
       "    <tr>\n",
       "      <th>3</th>\n",
       "      <td>131</td>\n",
       "      <td>2020-06-01 01:26:42.205</td>\n",
       "      <td>2020-06-01 01:28:53.804</td>\n",
       "      <td>3267</td>\n",
       "      <td>Morris Canal</td>\n",
       "      <td>40.712419</td>\n",
       "      <td>-74.038526</td>\n",
       "      <td>3681</td>\n",
       "      <td>Grand St</td>\n",
       "      <td>40.715178</td>\n",
       "      <td>...</td>\n",
       "      <td>1987</td>\n",
       "      <td>Male</td>\n",
       "      <td>0.195655</td>\n",
       "      <td>NaN</td>\n",
       "      <td>June</td>\n",
       "      <td>Monday</td>\n",
       "      <td>1</td>\n",
       "      <td>33</td>\n",
       "      <td>2.18</td>\n",
       "      <td>5.38</td>\n",
       "    </tr>\n",
       "    <tr>\n",
       "      <th>4</th>\n",
       "      <td>266</td>\n",
       "      <td>2020-06-01 01:27:33.709</td>\n",
       "      <td>2020-06-01 01:32:00.189</td>\n",
       "      <td>3639</td>\n",
       "      <td>Harborside</td>\n",
       "      <td>40.719252</td>\n",
       "      <td>-74.034234</td>\n",
       "      <td>3186</td>\n",
       "      <td>Grove St PATH</td>\n",
       "      <td>40.719586</td>\n",
       "      <td>...</td>\n",
       "      <td>1972</td>\n",
       "      <td>Female</td>\n",
       "      <td>0.465771</td>\n",
       "      <td>NaN</td>\n",
       "      <td>June</td>\n",
       "      <td>Monday</td>\n",
       "      <td>1</td>\n",
       "      <td>48</td>\n",
       "      <td>4.43</td>\n",
       "      <td>6.31</td>\n",
       "    </tr>\n",
       "  </tbody>\n",
       "</table>\n",
       "<p>5 rows × 23 columns</p>\n",
       "</div>"
      ],
      "text/plain": [
       "   tripduration                starttime                 stoptime  \\\n",
       "0           122  2020-06-01 00:02:21.750  2020-06-01 00:04:24.325   \n",
       "1          1282  2020-06-01 00:12:27.109  2020-06-01 00:33:50.054   \n",
       "2           186  2020-06-01 01:19:59.209  2020-06-01 01:23:05.893   \n",
       "3           131  2020-06-01 01:26:42.205  2020-06-01 01:28:53.804   \n",
       "4           266  2020-06-01 01:27:33.709  2020-06-01 01:32:00.189   \n",
       "\n",
       "   start_station_id          start_station_name  start_station_latitude  \\\n",
       "0              3792  Columbus Dr at Exchange Pl               40.716870   \n",
       "1              3198            Heights Elevator               40.748716   \n",
       "2              3275              Columbus Drive               40.718355   \n",
       "3              3267                Morris Canal               40.712419   \n",
       "4              3639                  Harborside               40.719252   \n",
       "\n",
       "   start_station_longitude  end_station_id  end_station_name  \\\n",
       "0               -74.032810            3639        Harborside   \n",
       "1               -74.040443            3276  Marin Light Rail   \n",
       "2               -74.038914            3681          Grand St   \n",
       "3               -74.038526            3681          Grand St   \n",
       "4               -74.034234            3186     Grove St PATH   \n",
       "\n",
       "   end_station_latitude  ...  birth_year  gender distance_miles  start_date  \\\n",
       "0             40.719252  ...        1987    Male       0.180668         NaN   \n",
       "1             40.714584  ...        1988    Male       2.361559         NaN   \n",
       "2             40.715178  ...        1987    Male       0.228816         NaN   \n",
       "3             40.715178  ...        1987    Male       0.195655         NaN   \n",
       "4             40.719586  ...        1972  Female       0.465771         NaN   \n",
       "\n",
       "  month     day  start_hourofday user_age duration_minutes  speed  \n",
       "0  June  Monday                0       33             2.03   5.34  \n",
       "1  June  Monday                0       32            21.37   6.63  \n",
       "2  June  Monday                1       33             3.10   4.43  \n",
       "3  June  Monday                1       33             2.18   5.38  \n",
       "4  June  Monday                1       48             4.43   6.31  \n",
       "\n",
       "[5 rows x 23 columns]"
      ]
     },
     "execution_count": 2,
     "metadata": {},
     "output_type": "execute_result"
    }
   ],
   "source": [
    "# load in the dataset into a pandas dataframe\n",
    "df_master = pd.read_csv('Newyork-2020-citibike-master-data.csv')\n",
    "df_master.head(5)"
   ]
  },
  {
   "cell_type": "markdown",
   "metadata": {
    "slideshow": {
     "slide_type": "slide"
    }
   },
   "source": [
    "## Comparing Distance of Trips\n",
    "\n",
    "> created bins for distance_miles\n",
    "> Plot histogram for observation\n",
    "\n",
    "### Observation:\n",
    "> Most of the riders have travelled distance of 0.5 - 1 mile\n"
   ]
  },
  {
   "cell_type": "code",
   "execution_count": 3,
   "metadata": {
    "slideshow": {
     "slide_type": "subslide"
    }
   },
   "outputs": [
    {
     "data": {
      "image/png": "[encoded data removed]",
      "text/plain": [
       "<Figure size 1008x432 with 1 Axes>"
      ]
     },
     "metadata": {
      "needs_background": "light"
     },
     "output_type": "display_data"
    }
   ],
   "source": [
    "# Exploring distribution of Distance covered by users using histogram chart. This is step perofmed as univariate analysis\n",
    "plt.figure(figsize=(14,6))\n",
    "bins = np.arange(0, df_master.distance_miles.max()+2, .5)\n",
    "ticks = np.arange(0, df_master.distance_miles.max()+2, .5)\n",
    "plt.hist(data=df_master, x='distance_miles', bins=bins, color='blue', alpha = .5)\n",
    "plt.xticks(ticks);\n",
    "plt.xlabel('Trip Distance in Miles')\n",
    "plt.ylabel('Counts')\n",
    "plt.title('Distribution Distance in Miles',fontsize = 16, fontweight = 'bold');"
   ]
  },
  {
   "cell_type": "markdown",
   "metadata": {
    "slideshow": {
     "slide_type": "slide"
    }
   },
   "source": [
    "## Comparing Gender with Trips\n",
    "\n",
    "> count the distance value travelled by gender\n",
    "> Plot countplot for observation\n",
    "\n",
    "### Observation:\n",
    "> Male Users are using bikes more than other type of gender"
   ]
  },
  {
   "cell_type": "code",
   "execution_count": 4,
   "metadata": {
    "slideshow": {
     "slide_type": "subslide"
    }
   },
   "outputs": [
    {
     "data": {
      "image/png": "[encoded data removed]",
      "text/plain": [
       "<Figure size 1008x432 with 1 Axes>"
      ]
     },
     "metadata": {
      "needs_background": "light"
     },
     "output_type": "display_data"
    }
   ],
   "source": [
    "# Creating chart to see how users are distributed by gender\n",
    "plt.figure(figsize=(14,6))\n",
    "gender_value = df_master.gender.value_counts().index\n",
    "sns.countplot(data=df_master, x='gender', color=\"blue\", alpha =.5, order =gender_value );\n",
    "plt.xlabel('Gender');\n",
    "plt.ylabel('Count')\n",
    "plt.title('Users by Gender',fontsize = 16, fontweight = 'bold');"
   ]
  },
  {
   "cell_type": "markdown",
   "metadata": {
    "slideshow": {
     "slide_type": "slide"
    }
   },
   "source": [
    "## Comparing Users by weekday\n",
    "\n",
    "> groupy day count the rides .\n",
    "> Plot bar graph for observation\n",
    "\n",
    "### Observation: \n",
    "> Usage of bikes is more in weekends than weekdays"
   ]
  },
  {
   "cell_type": "code",
   "execution_count": 5,
   "metadata": {
    "slideshow": {
     "slide_type": "subslide"
    }
   },
   "outputs": [
    {
     "data": {
      "image/png": "[encoded data removed]",
      "text/plain": [
       "<Figure size 1008x432 with 1 Axes>"
      ]
     },
     "metadata": {
      "needs_background": "light"
     },
     "output_type": "display_data"
    }
   ],
   "source": [
    "# creating bar to see bike usage by days\n",
    "plt.figure(figsize=(14,6))\n",
    "day_value = df_master.groupby('day')['bikeid'].count().index\n",
    "sns.countplot(data=df_master, x='day', color=\"blue\", alpha =.5, hue_order = day_value );\n",
    "plt.xlabel('day');\n",
    "plt.ylabel('Count')\n",
    "plt.title('Users by Weekday',fontsize = 16, fontweight = 'bold');"
   ]
  },
  {
   "cell_type": "markdown",
   "metadata": {
    "slideshow": {
     "slide_type": "slide"
    }
   },
   "source": [
    "## Comparing User type with trip duration\n",
    "\n",
    "> Plot bar graph for observation\n",
    "\n",
    "### Observation: \n",
    "\n",
    "> Usage of bikes is more in customer type than the subscriber type."
   ]
  },
  {
   "cell_type": "code",
   "execution_count": 7,
   "metadata": {
    "slideshow": {
     "slide_type": "subslide"
    }
   },
   "outputs": [
    {
     "data": {
      "image/png": "[encoded data removed]",
      "text/plain": [
       "<Figure size 1008x432 with 1 Axes>"
      ]
     },
     "metadata": {
      "needs_background": "light"
     },
     "output_type": "display_data"
    }
   ],
   "source": [
    "plt.figure(figsize=(14,6))\n",
    "sns.barplot(data=df_master, x='day', y='duration_minutes',hue='usertype');\n",
    "plt.xlabel('Day of Week');\n",
    "plt.ylabel('Trip Duration in Minute')\n",
    "plt.title('Trip Duration by User Type',fontsize = 16, fontweight = 'bold');"
   ]
  },
  {
   "cell_type": "markdown",
   "metadata": {
    "slideshow": {
     "slide_type": "slide"
    }
   },
   "source": [
    "## Conclusion\n",
    "\n",
    "#### The company should give some exciting offers to below categories increase their business,like:\n",
    "> provide offers to female users\n",
    "\n",
    "> provide offers to users who are students\n",
    "\n",
    "> provide offers on weekdays\n",
    "\n",
    "> provide offers on long rides\n",
    "\n",
    "> provide offers for customers to become subscribers"
   ]
  },
  {
   "cell_type": "code",
   "execution_count": null,
   "metadata": {},
   "outputs": [],
   "source": []
  },
  {
   "cell_type": "code",
   "execution_count": null,
   "metadata": {},
   "outputs": [],
   "source": []
  }
 ],
 "metadata": {
  "celltoolbar": "Slideshow",
  "kernelspec": {
   "display_name": "Python 3",
   "language": "python",
   "name": "python3"
  },
  "language_info": {
   "codemirror_mode": {
    "name": "ipython",
    "version": 3
   },
   "file_extension": ".py",
   "mimetype": "text/x-python",
   "name": "python",
   "nbconvert_exporter": "python",
   "pygments_lexer": "ipython3",
   "version": "3.7.4"
  }
 },
 "nbformat": 4,
 "nbformat_minor": 2
}
