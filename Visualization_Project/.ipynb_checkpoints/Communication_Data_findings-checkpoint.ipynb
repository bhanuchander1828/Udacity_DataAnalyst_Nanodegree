{
 "cells": [
  {
   "cell_type": "markdown",
   "metadata": {},
   "source": [
    "# New York CitiBike Data Analysis\n",
    "## by Bhanu Chander Kureti\n",
    "\n",
    "## Introduction\n",
    "\n",
    "><a href=\"https://www.citibikenyc.com/\">Citibike</a>  is a privately owned public bicycle sharing system serving the New York City boroughs of the Bronx, Brooklyn, Manhattan, and Queens, as well as Jersey City, New Jersey. It is operated by Motivate (formerly Alta Bicycle Share), with former Metropolitan Transportation Authority CEO Jay Walder as chief executive until September 30th, 2018, when the company was acquired by Lyft.\n",
    "\n",
    ">Citi Bike, like other bike share systems, consists of a fleet of specially designed, sturdy and durable bikes that are locked into a network of docking stations throughout the city. The bikes can be unlocked from one station and returned to any other station in the system, making them ideal for one-way trips. The bikes are available for use 24 hours/day, 7 days/week, 365 days/year and riders have access to all bikes in the network when they become a member or purchase a pass.\n",
    "\n",
    "## Preliminary Wrangling\n",
    "\n",
    "> For this Analysis I have collected CitiBike Data from CitiBike website which file name is <a href=\"https://s3.amazonaws.com/tripdata/index.html\">JC-202006-citibike-tripdata.csv.zip</a> "
   ]
  },
  {
   "cell_type": "code",
   "execution_count": 1,
   "metadata": {},
   "outputs": [
    {
     "name": "stderr",
     "output_type": "stream",
     "text": [
      "/Users/bhanuchanderkureti/opt/anaconda3/lib/python3.7/site-packages/statsmodels/tools/_testing.py:19: FutureWarning: pandas.util.testing is deprecated. Use the functions in the public API at pandas.testing instead.\n",
      "  import pandas.util.testing as tm\n"
     ]
    }
   ],
   "source": [
    "# Importing packages\n",
    "import numpy as np\n",
    "import pandas as pd\n",
    "import matplotlib.pyplot as plt\n",
    "%matplotlib inline\n",
    "import seaborn as sns\n",
    "import pandas.util.testing as tm\n",
    "from datetime import datetime\n",
    "import glob\n",
    "import os\n",
    "import datetime"
   ]
  },
  {
   "cell_type": "code",
   "execution_count": 2,
   "metadata": {},
   "outputs": [
    {
     "data": {
      "text/html": [
       "<div>\n",
       "<style scoped>\n",
       "    .dataframe tbody tr th:only-of-type {\n",
       "        vertical-align: middle;\n",
       "    }\n",
       "\n",
       "    .dataframe tbody tr th {\n",
       "        vertical-align: top;\n",
       "    }\n",
       "\n",
       "    .dataframe thead th {\n",
       "        text-align: right;\n",
       "    }\n",
       "</style>\n",
       "<table border=\"1\" class=\"dataframe\">\n",
       "  <thead>\n",
       "    <tr style=\"text-align: right;\">\n",
       "      <th></th>\n",
       "      <th>tripduration</th>\n",
       "      <th>starttime</th>\n",
       "      <th>stoptime</th>\n",
       "      <th>start station id</th>\n",
       "      <th>start station name</th>\n",
       "      <th>start station latitude</th>\n",
       "      <th>start station longitude</th>\n",
       "      <th>end station id</th>\n",
       "      <th>end station name</th>\n",
       "      <th>end station latitude</th>\n",
       "      <th>end station longitude</th>\n",
       "      <th>bikeid</th>\n",
       "      <th>usertype</th>\n",
       "      <th>birth year</th>\n",
       "      <th>gender</th>\n",
       "    </tr>\n",
       "  </thead>\n",
       "  <tbody>\n",
       "    <tr>\n",
       "      <th>0</th>\n",
       "      <td>122</td>\n",
       "      <td>2020-06-01 00:02:21.7500</td>\n",
       "      <td>2020-06-01 00:04:24.3250</td>\n",
       "      <td>3792</td>\n",
       "      <td>Columbus Dr at Exchange Pl</td>\n",
       "      <td>40.716870</td>\n",
       "      <td>-74.032810</td>\n",
       "      <td>3639</td>\n",
       "      <td>Harborside</td>\n",
       "      <td>40.719252</td>\n",
       "      <td>-74.034234</td>\n",
       "      <td>42489</td>\n",
       "      <td>Subscriber</td>\n",
       "      <td>1987</td>\n",
       "      <td>1</td>\n",
       "    </tr>\n",
       "    <tr>\n",
       "      <th>1</th>\n",
       "      <td>1282</td>\n",
       "      <td>2020-06-01 00:12:27.1090</td>\n",
       "      <td>2020-06-01 00:33:50.0540</td>\n",
       "      <td>3198</td>\n",
       "      <td>Heights Elevator</td>\n",
       "      <td>40.748716</td>\n",
       "      <td>-74.040443</td>\n",
       "      <td>3276</td>\n",
       "      <td>Marin Light Rail</td>\n",
       "      <td>40.714584</td>\n",
       "      <td>-74.042817</td>\n",
       "      <td>42183</td>\n",
       "      <td>Subscriber</td>\n",
       "      <td>1988</td>\n",
       "      <td>1</td>\n",
       "    </tr>\n",
       "    <tr>\n",
       "      <th>2</th>\n",
       "      <td>186</td>\n",
       "      <td>2020-06-01 01:19:59.2090</td>\n",
       "      <td>2020-06-01 01:23:05.8930</td>\n",
       "      <td>3275</td>\n",
       "      <td>Columbus Drive</td>\n",
       "      <td>40.718355</td>\n",
       "      <td>-74.038914</td>\n",
       "      <td>3681</td>\n",
       "      <td>Grand St</td>\n",
       "      <td>40.715178</td>\n",
       "      <td>-74.037683</td>\n",
       "      <td>42140</td>\n",
       "      <td>Subscriber</td>\n",
       "      <td>1987</td>\n",
       "      <td>1</td>\n",
       "    </tr>\n",
       "    <tr>\n",
       "      <th>3</th>\n",
       "      <td>131</td>\n",
       "      <td>2020-06-01 01:26:42.2050</td>\n",
       "      <td>2020-06-01 01:28:53.8040</td>\n",
       "      <td>3267</td>\n",
       "      <td>Morris Canal</td>\n",
       "      <td>40.712419</td>\n",
       "      <td>-74.038526</td>\n",
       "      <td>3681</td>\n",
       "      <td>Grand St</td>\n",
       "      <td>40.715178</td>\n",
       "      <td>-74.037683</td>\n",
       "      <td>42120</td>\n",
       "      <td>Subscriber</td>\n",
       "      <td>1987</td>\n",
       "      <td>1</td>\n",
       "    </tr>\n",
       "    <tr>\n",
       "      <th>4</th>\n",
       "      <td>266</td>\n",
       "      <td>2020-06-01 01:27:33.7090</td>\n",
       "      <td>2020-06-01 01:32:00.1890</td>\n",
       "      <td>3639</td>\n",
       "      <td>Harborside</td>\n",
       "      <td>40.719252</td>\n",
       "      <td>-74.034234</td>\n",
       "      <td>3186</td>\n",
       "      <td>Grove St PATH</td>\n",
       "      <td>40.719586</td>\n",
       "      <td>-74.043117</td>\n",
       "      <td>42437</td>\n",
       "      <td>Subscriber</td>\n",
       "      <td>1972</td>\n",
       "      <td>2</td>\n",
       "    </tr>\n",
       "  </tbody>\n",
       "</table>\n",
       "</div>"
      ],
      "text/plain": [
       "   tripduration                 starttime                  stoptime  \\\n",
       "0           122  2020-06-01 00:02:21.7500  2020-06-01 00:04:24.3250   \n",
       "1          1282  2020-06-01 00:12:27.1090  2020-06-01 00:33:50.0540   \n",
       "2           186  2020-06-01 01:19:59.2090  2020-06-01 01:23:05.8930   \n",
       "3           131  2020-06-01 01:26:42.2050  2020-06-01 01:28:53.8040   \n",
       "4           266  2020-06-01 01:27:33.7090  2020-06-01 01:32:00.1890   \n",
       "\n",
       "   start station id          start station name  start station latitude  \\\n",
       "0              3792  Columbus Dr at Exchange Pl               40.716870   \n",
       "1              3198            Heights Elevator               40.748716   \n",
       "2              3275              Columbus Drive               40.718355   \n",
       "3              3267                Morris Canal               40.712419   \n",
       "4              3639                  Harborside               40.719252   \n",
       "\n",
       "   start station longitude  end station id  end station name  \\\n",
       "0               -74.032810            3639        Harborside   \n",
       "1               -74.040443            3276  Marin Light Rail   \n",
       "2               -74.038914            3681          Grand St   \n",
       "3               -74.038526            3681          Grand St   \n",
       "4               -74.034234            3186     Grove St PATH   \n",
       "\n",
       "   end station latitude  end station longitude  bikeid    usertype  \\\n",
       "0             40.719252             -74.034234   42489  Subscriber   \n",
       "1             40.714584             -74.042817   42183  Subscriber   \n",
       "2             40.715178             -74.037683   42140  Subscriber   \n",
       "3             40.715178             -74.037683   42120  Subscriber   \n",
       "4             40.719586             -74.043117   42437  Subscriber   \n",
       "\n",
       "   birth year  gender  \n",
       "0        1987       1  \n",
       "1        1988       1  \n",
       "2        1987       1  \n",
       "3        1987       1  \n",
       "4        1972       2  "
      ]
     },
     "execution_count": 2,
     "metadata": {},
     "output_type": "execute_result"
    }
   ],
   "source": [
    "#Import the dataset\n",
    "df = pd.read_csv('Newyork-2020-citibike-data.csv')\n",
    "df.head(5)"
   ]
  },
  {
   "cell_type": "code",
   "execution_count": 3,
   "metadata": {},
   "outputs": [
    {
     "data": {
      "text/plain": [
       "(36921, 15)"
      ]
     },
     "execution_count": 3,
     "metadata": {},
     "output_type": "execute_result"
    }
   ],
   "source": [
    "# Display no of rows and columns in data set\n",
    "df.shape"
   ]
  },
  {
   "cell_type": "markdown",
   "metadata": {},
   "source": [
    "#### Dataset Consists of 36921 rows and 15 columns"
   ]
  },
  {
   "cell_type": "code",
   "execution_count": 4,
   "metadata": {},
   "outputs": [
    {
     "data": {
      "text/html": [
       "<div>\n",
       "<style scoped>\n",
       "    .dataframe tbody tr th:only-of-type {\n",
       "        vertical-align: middle;\n",
       "    }\n",
       "\n",
       "    .dataframe tbody tr th {\n",
       "        vertical-align: top;\n",
       "    }\n",
       "\n",
       "    .dataframe thead th {\n",
       "        text-align: right;\n",
       "    }\n",
       "</style>\n",
       "<table border=\"1\" class=\"dataframe\">\n",
       "  <thead>\n",
       "    <tr style=\"text-align: right;\">\n",
       "      <th></th>\n",
       "      <th>tripduration</th>\n",
       "      <th>starttime</th>\n",
       "      <th>stoptime</th>\n",
       "      <th>start station id</th>\n",
       "      <th>start station name</th>\n",
       "      <th>start station latitude</th>\n",
       "      <th>start station longitude</th>\n",
       "      <th>end station id</th>\n",
       "      <th>end station name</th>\n",
       "      <th>end station latitude</th>\n",
       "      <th>end station longitude</th>\n",
       "      <th>bikeid</th>\n",
       "      <th>usertype</th>\n",
       "      <th>birth year</th>\n",
       "      <th>gender</th>\n",
       "    </tr>\n",
       "  </thead>\n",
       "  <tbody>\n",
       "    <tr>\n",
       "      <th>16993</th>\n",
       "      <td>1764</td>\n",
       "      <td>2020-06-15 17:09:26.7310</td>\n",
       "      <td>2020-06-15 17:38:51.6180</td>\n",
       "      <td>3192</td>\n",
       "      <td>Liberty Light Rail</td>\n",
       "      <td>40.711242</td>\n",
       "      <td>-74.055701</td>\n",
       "      <td>3192</td>\n",
       "      <td>Liberty Light Rail</td>\n",
       "      <td>40.711242</td>\n",
       "      <td>-74.055701</td>\n",
       "      <td>42240</td>\n",
       "      <td>Customer</td>\n",
       "      <td>1969</td>\n",
       "      <td>0</td>\n",
       "    </tr>\n",
       "    <tr>\n",
       "      <th>9520</th>\n",
       "      <td>3104</td>\n",
       "      <td>2020-06-09 19:11:11.7590</td>\n",
       "      <td>2020-06-09 20:02:55.8130</td>\n",
       "      <td>3211</td>\n",
       "      <td>Newark Ave</td>\n",
       "      <td>40.721525</td>\n",
       "      <td>-74.046305</td>\n",
       "      <td>3639</td>\n",
       "      <td>Harborside</td>\n",
       "      <td>40.719252</td>\n",
       "      <td>-74.034234</td>\n",
       "      <td>42412</td>\n",
       "      <td>Customer</td>\n",
       "      <td>1967</td>\n",
       "      <td>2</td>\n",
       "    </tr>\n",
       "    <tr>\n",
       "      <th>13262</th>\n",
       "      <td>2775</td>\n",
       "      <td>2020-06-13 10:21:53.8520</td>\n",
       "      <td>2020-06-13 11:08:09.2560</td>\n",
       "      <td>3203</td>\n",
       "      <td>Hamilton Park</td>\n",
       "      <td>40.727596</td>\n",
       "      <td>-74.044247</td>\n",
       "      <td>3203</td>\n",
       "      <td>Hamilton Park</td>\n",
       "      <td>40.727596</td>\n",
       "      <td>-74.044247</td>\n",
       "      <td>42401</td>\n",
       "      <td>Customer</td>\n",
       "      <td>1994</td>\n",
       "      <td>1</td>\n",
       "    </tr>\n",
       "    <tr>\n",
       "      <th>4772</th>\n",
       "      <td>2879</td>\n",
       "      <td>2020-06-06 14:55:44.1720</td>\n",
       "      <td>2020-06-06 15:43:43.5530</td>\n",
       "      <td>3193</td>\n",
       "      <td>Lincoln Park</td>\n",
       "      <td>40.724605</td>\n",
       "      <td>-74.078406</td>\n",
       "      <td>3193</td>\n",
       "      <td>Lincoln Park</td>\n",
       "      <td>40.724605</td>\n",
       "      <td>-74.078406</td>\n",
       "      <td>42343</td>\n",
       "      <td>Customer</td>\n",
       "      <td>1969</td>\n",
       "      <td>0</td>\n",
       "    </tr>\n",
       "    <tr>\n",
       "      <th>33102</th>\n",
       "      <td>224</td>\n",
       "      <td>2020-06-27 21:48:19.8610</td>\n",
       "      <td>2020-06-27 21:52:04.1520</td>\n",
       "      <td>3211</td>\n",
       "      <td>Newark Ave</td>\n",
       "      <td>40.721525</td>\n",
       "      <td>-74.046305</td>\n",
       "      <td>3270</td>\n",
       "      <td>Jersey &amp; 6th St</td>\n",
       "      <td>40.725289</td>\n",
       "      <td>-74.045572</td>\n",
       "      <td>20748</td>\n",
       "      <td>Subscriber</td>\n",
       "      <td>1987</td>\n",
       "      <td>2</td>\n",
       "    </tr>\n",
       "    <tr>\n",
       "      <th>17396</th>\n",
       "      <td>1369</td>\n",
       "      <td>2020-06-15 20:31:44.8750</td>\n",
       "      <td>2020-06-15 20:54:33.9950</td>\n",
       "      <td>3275</td>\n",
       "      <td>Columbus Drive</td>\n",
       "      <td>40.718355</td>\n",
       "      <td>-74.038914</td>\n",
       "      <td>3275</td>\n",
       "      <td>Columbus Drive</td>\n",
       "      <td>40.718355</td>\n",
       "      <td>-74.038914</td>\n",
       "      <td>42475</td>\n",
       "      <td>Subscriber</td>\n",
       "      <td>1979</td>\n",
       "      <td>2</td>\n",
       "    </tr>\n",
       "    <tr>\n",
       "      <th>23365</th>\n",
       "      <td>1188</td>\n",
       "      <td>2020-06-20 18:10:28.7100</td>\n",
       "      <td>2020-06-20 18:30:16.9960</td>\n",
       "      <td>3639</td>\n",
       "      <td>Harborside</td>\n",
       "      <td>40.719252</td>\n",
       "      <td>-74.034234</td>\n",
       "      <td>3639</td>\n",
       "      <td>Harborside</td>\n",
       "      <td>40.719252</td>\n",
       "      <td>-74.034234</td>\n",
       "      <td>42213</td>\n",
       "      <td>Subscriber</td>\n",
       "      <td>1984</td>\n",
       "      <td>1</td>\n",
       "    </tr>\n",
       "    <tr>\n",
       "      <th>4272</th>\n",
       "      <td>9160</td>\n",
       "      <td>2020-06-06 10:50:50.3020</td>\n",
       "      <td>2020-06-06 13:23:31.1480</td>\n",
       "      <td>3202</td>\n",
       "      <td>Newport PATH</td>\n",
       "      <td>40.727224</td>\n",
       "      <td>-74.033759</td>\n",
       "      <td>3792</td>\n",
       "      <td>Columbus Dr at Exchange Pl</td>\n",
       "      <td>40.716870</td>\n",
       "      <td>-74.032810</td>\n",
       "      <td>42468</td>\n",
       "      <td>Subscriber</td>\n",
       "      <td>1982</td>\n",
       "      <td>2</td>\n",
       "    </tr>\n",
       "    <tr>\n",
       "      <th>15471</th>\n",
       "      <td>1045</td>\n",
       "      <td>2020-06-14 14:41:20.9260</td>\n",
       "      <td>2020-06-14 14:58:46.8110</td>\n",
       "      <td>3184</td>\n",
       "      <td>Paulus Hook</td>\n",
       "      <td>40.714145</td>\n",
       "      <td>-74.033552</td>\n",
       "      <td>3211</td>\n",
       "      <td>Newark Ave</td>\n",
       "      <td>40.721525</td>\n",
       "      <td>-74.046305</td>\n",
       "      <td>42526</td>\n",
       "      <td>Customer</td>\n",
       "      <td>1969</td>\n",
       "      <td>0</td>\n",
       "    </tr>\n",
       "    <tr>\n",
       "      <th>19605</th>\n",
       "      <td>492</td>\n",
       "      <td>2020-06-17 19:50:06.2970</td>\n",
       "      <td>2020-06-17 19:58:19.1810</td>\n",
       "      <td>3205</td>\n",
       "      <td>JC Medical Center</td>\n",
       "      <td>40.716540</td>\n",
       "      <td>-74.049638</td>\n",
       "      <td>3268</td>\n",
       "      <td>Lafayette Park</td>\n",
       "      <td>40.713464</td>\n",
       "      <td>-74.062859</td>\n",
       "      <td>27576</td>\n",
       "      <td>Customer</td>\n",
       "      <td>1969</td>\n",
       "      <td>0</td>\n",
       "    </tr>\n",
       "  </tbody>\n",
       "</table>\n",
       "</div>"
      ],
      "text/plain": [
       "       tripduration                 starttime                  stoptime  \\\n",
       "16993          1764  2020-06-15 17:09:26.7310  2020-06-15 17:38:51.6180   \n",
       "9520           3104  2020-06-09 19:11:11.7590  2020-06-09 20:02:55.8130   \n",
       "13262          2775  2020-06-13 10:21:53.8520  2020-06-13 11:08:09.2560   \n",
       "4772           2879  2020-06-06 14:55:44.1720  2020-06-06 15:43:43.5530   \n",
       "33102           224  2020-06-27 21:48:19.8610  2020-06-27 21:52:04.1520   \n",
       "17396          1369  2020-06-15 20:31:44.8750  2020-06-15 20:54:33.9950   \n",
       "23365          1188  2020-06-20 18:10:28.7100  2020-06-20 18:30:16.9960   \n",
       "4272           9160  2020-06-06 10:50:50.3020  2020-06-06 13:23:31.1480   \n",
       "15471          1045  2020-06-14 14:41:20.9260  2020-06-14 14:58:46.8110   \n",
       "19605           492  2020-06-17 19:50:06.2970  2020-06-17 19:58:19.1810   \n",
       "\n",
       "       start station id  start station name  start station latitude  \\\n",
       "16993              3192  Liberty Light Rail               40.711242   \n",
       "9520               3211          Newark Ave               40.721525   \n",
       "13262              3203       Hamilton Park               40.727596   \n",
       "4772               3193        Lincoln Park               40.724605   \n",
       "33102              3211          Newark Ave               40.721525   \n",
       "17396              3275      Columbus Drive               40.718355   \n",
       "23365              3639          Harborside               40.719252   \n",
       "4272               3202        Newport PATH               40.727224   \n",
       "15471              3184         Paulus Hook               40.714145   \n",
       "19605              3205   JC Medical Center               40.716540   \n",
       "\n",
       "       start station longitude  end station id            end station name  \\\n",
       "16993               -74.055701            3192          Liberty Light Rail   \n",
       "9520                -74.046305            3639                  Harborside   \n",
       "13262               -74.044247            3203               Hamilton Park   \n",
       "4772                -74.078406            3193                Lincoln Park   \n",
       "33102               -74.046305            3270             Jersey & 6th St   \n",
       "17396               -74.038914            3275              Columbus Drive   \n",
       "23365               -74.034234            3639                  Harborside   \n",
       "4272                -74.033759            3792  Columbus Dr at Exchange Pl   \n",
       "15471               -74.033552            3211                  Newark Ave   \n",
       "19605               -74.049638            3268              Lafayette Park   \n",
       "\n",
       "       end station latitude  end station longitude  bikeid    usertype  \\\n",
       "16993             40.711242             -74.055701   42240    Customer   \n",
       "9520              40.719252             -74.034234   42412    Customer   \n",
       "13262             40.727596             -74.044247   42401    Customer   \n",
       "4772              40.724605             -74.078406   42343    Customer   \n",
       "33102             40.725289             -74.045572   20748  Subscriber   \n",
       "17396             40.718355             -74.038914   42475  Subscriber   \n",
       "23365             40.719252             -74.034234   42213  Subscriber   \n",
       "4272              40.716870             -74.032810   42468  Subscriber   \n",
       "15471             40.721525             -74.046305   42526    Customer   \n",
       "19605             40.713464             -74.062859   27576    Customer   \n",
       "\n",
       "       birth year  gender  \n",
       "16993        1969       0  \n",
       "9520         1967       2  \n",
       "13262        1994       1  \n",
       "4772         1969       0  \n",
       "33102        1987       2  \n",
       "17396        1979       2  \n",
       "23365        1984       1  \n",
       "4272         1982       2  \n",
       "15471        1969       0  \n",
       "19605        1969       0  "
      ]
     },
     "execution_count": 4,
     "metadata": {},
     "output_type": "execute_result"
    }
   ],
   "source": [
    "# dispaly 10 records of data randomly\n",
    "df.sample(10)"
   ]
  },
  {
   "cell_type": "code",
   "execution_count": 5,
   "metadata": {},
   "outputs": [
    {
     "name": "stdout",
     "output_type": "stream",
     "text": [
      "<class 'pandas.core.frame.DataFrame'>\n",
      "RangeIndex: 36921 entries, 0 to 36920\n",
      "Data columns (total 15 columns):\n",
      " #   Column                   Non-Null Count  Dtype  \n",
      "---  ------                   --------------  -----  \n",
      " 0   tripduration             36921 non-null  int64  \n",
      " 1   starttime                36921 non-null  object \n",
      " 2   stoptime                 36921 non-null  object \n",
      " 3   start station id         36921 non-null  int64  \n",
      " 4   start station name       36921 non-null  object \n",
      " 5   start station latitude   36921 non-null  float64\n",
      " 6   start station longitude  36921 non-null  float64\n",
      " 7   end station id           36921 non-null  int64  \n",
      " 8   end station name         36921 non-null  object \n",
      " 9   end station latitude     36921 non-null  float64\n",
      " 10  end station longitude    36921 non-null  float64\n",
      " 11  bikeid                   36921 non-null  int64  \n",
      " 12  usertype                 36921 non-null  object \n",
      " 13  birth year               36921 non-null  int64  \n",
      " 14  gender                   36921 non-null  int64  \n",
      "dtypes: float64(4), int64(6), object(5)\n",
      "memory usage: 4.2+ MB\n"
     ]
    }
   ],
   "source": [
    "df.info()"
   ]
  },
  {
   "cell_type": "markdown",
   "metadata": {},
   "source": [
    "## Tideness - I\n",
    "\n",
    "#### Most of the column names are seperated by 'space'. So rename the column names by replacing ' ' with '_'.\n",
    "#### columns need to be renamed are : start station id , start station name ,start station latitude, start station longitute, end station id , end station name ,end station latitude, end station longitute, birth year."
   ]
  },
  {
   "cell_type": "code",
   "execution_count": 6,
   "metadata": {},
   "outputs": [],
   "source": [
    "# copy the dataset before starting cleaning or assessment\n",
    "df_bikes = df.copy()"
   ]
  },
  {
   "cell_type": "code",
   "execution_count": 7,
   "metadata": {},
   "outputs": [],
   "source": [
    "# Renaming the columns\n",
    "df_bikes.rename({'start station id':'start_station_id','start station name':'start_station_name'}, axis=1,inplace=True)\n",
    "df_bikes.rename({'start station latitude': 'start_station_latitude','start station longitude':'start_station_longitude','end station id':'end_station_id','end station name':'end_station_name','end station latitude':'end_station_latitude','end station longitude':'end_station_longitude'}, axis=1,inplace=True)\n",
    "df_bikes.rename({'birth year': 'birth_year'}, axis=1,inplace=True)"
   ]
  },
  {
   "cell_type": "code",
   "execution_count": 8,
   "metadata": {},
   "outputs": [
    {
     "data": {
      "text/html": [
       "<div>\n",
       "<style scoped>\n",
       "    .dataframe tbody tr th:only-of-type {\n",
       "        vertical-align: middle;\n",
       "    }\n",
       "\n",
       "    .dataframe tbody tr th {\n",
       "        vertical-align: top;\n",
       "    }\n",
       "\n",
       "    .dataframe thead th {\n",
       "        text-align: right;\n",
       "    }\n",
       "</style>\n",
       "<table border=\"1\" class=\"dataframe\">\n",
       "  <thead>\n",
       "    <tr style=\"text-align: right;\">\n",
       "      <th></th>\n",
       "      <th>tripduration</th>\n",
       "      <th>starttime</th>\n",
       "      <th>stoptime</th>\n",
       "      <th>start_station_id</th>\n",
       "      <th>start_station_name</th>\n",
       "      <th>start_station_latitude</th>\n",
       "      <th>start_station_longitude</th>\n",
       "      <th>end_station_id</th>\n",
       "      <th>end_station_name</th>\n",
       "      <th>end_station_latitude</th>\n",
       "      <th>end_station_longitude</th>\n",
       "      <th>bikeid</th>\n",
       "      <th>usertype</th>\n",
       "      <th>birth_year</th>\n",
       "      <th>gender</th>\n",
       "    </tr>\n",
       "  </thead>\n",
       "  <tbody>\n",
       "    <tr>\n",
       "      <th>0</th>\n",
       "      <td>122</td>\n",
       "      <td>2020-06-01 00:02:21.7500</td>\n",
       "      <td>2020-06-01 00:04:24.3250</td>\n",
       "      <td>3792</td>\n",
       "      <td>Columbus Dr at Exchange Pl</td>\n",
       "      <td>40.716870</td>\n",
       "      <td>-74.032810</td>\n",
       "      <td>3639</td>\n",
       "      <td>Harborside</td>\n",
       "      <td>40.719252</td>\n",
       "      <td>-74.034234</td>\n",
       "      <td>42489</td>\n",
       "      <td>Subscriber</td>\n",
       "      <td>1987</td>\n",
       "      <td>1</td>\n",
       "    </tr>\n",
       "    <tr>\n",
       "      <th>1</th>\n",
       "      <td>1282</td>\n",
       "      <td>2020-06-01 00:12:27.1090</td>\n",
       "      <td>2020-06-01 00:33:50.0540</td>\n",
       "      <td>3198</td>\n",
       "      <td>Heights Elevator</td>\n",
       "      <td>40.748716</td>\n",
       "      <td>-74.040443</td>\n",
       "      <td>3276</td>\n",
       "      <td>Marin Light Rail</td>\n",
       "      <td>40.714584</td>\n",
       "      <td>-74.042817</td>\n",
       "      <td>42183</td>\n",
       "      <td>Subscriber</td>\n",
       "      <td>1988</td>\n",
       "      <td>1</td>\n",
       "    </tr>\n",
       "  </tbody>\n",
       "</table>\n",
       "</div>"
      ],
      "text/plain": [
       "   tripduration                 starttime                  stoptime  \\\n",
       "0           122  2020-06-01 00:02:21.7500  2020-06-01 00:04:24.3250   \n",
       "1          1282  2020-06-01 00:12:27.1090  2020-06-01 00:33:50.0540   \n",
       "\n",
       "   start_station_id          start_station_name  start_station_latitude  \\\n",
       "0              3792  Columbus Dr at Exchange Pl               40.716870   \n",
       "1              3198            Heights Elevator               40.748716   \n",
       "\n",
       "   start_station_longitude  end_station_id  end_station_name  \\\n",
       "0               -74.032810            3639        Harborside   \n",
       "1               -74.040443            3276  Marin Light Rail   \n",
       "\n",
       "   end_station_latitude  end_station_longitude  bikeid    usertype  \\\n",
       "0             40.719252             -74.034234   42489  Subscriber   \n",
       "1             40.714584             -74.042817   42183  Subscriber   \n",
       "\n",
       "   birth_year  gender  \n",
       "0        1987       1  \n",
       "1        1988       1  "
      ]
     },
     "execution_count": 8,
     "metadata": {},
     "output_type": "execute_result"
    }
   ],
   "source": [
    "# check the renamed column's\n",
    "df_bikes.head(2)"
   ]
  },
  {
   "cell_type": "code",
   "execution_count": 9,
   "metadata": {},
   "outputs": [],
   "source": [
    "# Creating function to calculate the distance between the latitudes and logitudes for atarting and ending positions\n",
    "import math\n",
    "from math import radians, sin, cos, acos\n",
    "\n",
    "def distance(origin, destination):\n",
    "\n",
    "    latS, longS = origin\n",
    "    latE, longE = destination\n",
    "    radius = 6371\n",
    "    # this is in kilometers - will convert to US units of miles after\n",
    "\n",
    "    d_lat = math.radians(latE - latS)\n",
    "    d_long = math.radians(longE - longS)\n",
    "    \n",
    "    x = (math.sin(d_lat / 2) * math.sin(d_lat / 2) + math.cos(math.radians(latS)) * math.cos(math.radians(latE)) * math.sin(d_long / 2) * math.sin(d_long / 2))\n",
    "    y = 2 * math.atan2(math.sqrt(x), math.sqrt(1 - x))\n",
    "    z = radius * y\n",
    "\n",
    "    return z"
   ]
  },
  {
   "cell_type": "code",
   "execution_count": 10,
   "metadata": {},
   "outputs": [],
   "source": [
    "# Creating the distance_km column \n",
    "df_bikes['distance_km'] = df_bikes.apply(lambda x: distance((x['start_station_latitude'], x['start_station_longitude']), (x['end_station_latitude'], x['end_station_longitude'])), axis=1)"
   ]
  },
  {
   "cell_type": "code",
   "execution_count": 11,
   "metadata": {},
   "outputs": [],
   "source": [
    "# converting distance_kms column to distance_miles\n",
    "df_bikes['distance_miles'] = df_bikes['distance_km'] * 0.621371\n",
    "df_bikes.drop(['distance_km'], axis=1, inplace = True)\n"
   ]
  },
  {
   "cell_type": "code",
   "execution_count": 12,
   "metadata": {},
   "outputs": [
    {
     "data": {
      "text/html": [
       "<div>\n",
       "<style scoped>\n",
       "    .dataframe tbody tr th:only-of-type {\n",
       "        vertical-align: middle;\n",
       "    }\n",
       "\n",
       "    .dataframe tbody tr th {\n",
       "        vertical-align: top;\n",
       "    }\n",
       "\n",
       "    .dataframe thead th {\n",
       "        text-align: right;\n",
       "    }\n",
       "</style>\n",
       "<table border=\"1\" class=\"dataframe\">\n",
       "  <thead>\n",
       "    <tr style=\"text-align: right;\">\n",
       "      <th></th>\n",
       "      <th>tripduration</th>\n",
       "      <th>starttime</th>\n",
       "      <th>stoptime</th>\n",
       "      <th>start_station_id</th>\n",
       "      <th>start_station_name</th>\n",
       "      <th>start_station_latitude</th>\n",
       "      <th>start_station_longitude</th>\n",
       "      <th>end_station_id</th>\n",
       "      <th>end_station_name</th>\n",
       "      <th>end_station_latitude</th>\n",
       "      <th>end_station_longitude</th>\n",
       "      <th>bikeid</th>\n",
       "      <th>usertype</th>\n",
       "      <th>birth_year</th>\n",
       "      <th>gender</th>\n",
       "      <th>distance_miles</th>\n",
       "    </tr>\n",
       "  </thead>\n",
       "  <tbody>\n",
       "    <tr>\n",
       "      <th>0</th>\n",
       "      <td>122</td>\n",
       "      <td>2020-06-01 00:02:21.7500</td>\n",
       "      <td>2020-06-01 00:04:24.3250</td>\n",
       "      <td>3792</td>\n",
       "      <td>Columbus Dr at Exchange Pl</td>\n",
       "      <td>40.716870</td>\n",
       "      <td>-74.032810</td>\n",
       "      <td>3639</td>\n",
       "      <td>Harborside</td>\n",
       "      <td>40.719252</td>\n",
       "      <td>-74.034234</td>\n",
       "      <td>42489</td>\n",
       "      <td>Subscriber</td>\n",
       "      <td>1987</td>\n",
       "      <td>1</td>\n",
       "      <td>0.180668</td>\n",
       "    </tr>\n",
       "    <tr>\n",
       "      <th>1</th>\n",
       "      <td>1282</td>\n",
       "      <td>2020-06-01 00:12:27.1090</td>\n",
       "      <td>2020-06-01 00:33:50.0540</td>\n",
       "      <td>3198</td>\n",
       "      <td>Heights Elevator</td>\n",
       "      <td>40.748716</td>\n",
       "      <td>-74.040443</td>\n",
       "      <td>3276</td>\n",
       "      <td>Marin Light Rail</td>\n",
       "      <td>40.714584</td>\n",
       "      <td>-74.042817</td>\n",
       "      <td>42183</td>\n",
       "      <td>Subscriber</td>\n",
       "      <td>1988</td>\n",
       "      <td>1</td>\n",
       "      <td>2.361559</td>\n",
       "    </tr>\n",
       "    <tr>\n",
       "      <th>2</th>\n",
       "      <td>186</td>\n",
       "      <td>2020-06-01 01:19:59.2090</td>\n",
       "      <td>2020-06-01 01:23:05.8930</td>\n",
       "      <td>3275</td>\n",
       "      <td>Columbus Drive</td>\n",
       "      <td>40.718355</td>\n",
       "      <td>-74.038914</td>\n",
       "      <td>3681</td>\n",
       "      <td>Grand St</td>\n",
       "      <td>40.715178</td>\n",
       "      <td>-74.037683</td>\n",
       "      <td>42140</td>\n",
       "      <td>Subscriber</td>\n",
       "      <td>1987</td>\n",
       "      <td>1</td>\n",
       "      <td>0.228816</td>\n",
       "    </tr>\n",
       "    <tr>\n",
       "      <th>3</th>\n",
       "      <td>131</td>\n",
       "      <td>2020-06-01 01:26:42.2050</td>\n",
       "      <td>2020-06-01 01:28:53.8040</td>\n",
       "      <td>3267</td>\n",
       "      <td>Morris Canal</td>\n",
       "      <td>40.712419</td>\n",
       "      <td>-74.038526</td>\n",
       "      <td>3681</td>\n",
       "      <td>Grand St</td>\n",
       "      <td>40.715178</td>\n",
       "      <td>-74.037683</td>\n",
       "      <td>42120</td>\n",
       "      <td>Subscriber</td>\n",
       "      <td>1987</td>\n",
       "      <td>1</td>\n",
       "      <td>0.195655</td>\n",
       "    </tr>\n",
       "    <tr>\n",
       "      <th>4</th>\n",
       "      <td>266</td>\n",
       "      <td>2020-06-01 01:27:33.7090</td>\n",
       "      <td>2020-06-01 01:32:00.1890</td>\n",
       "      <td>3639</td>\n",
       "      <td>Harborside</td>\n",
       "      <td>40.719252</td>\n",
       "      <td>-74.034234</td>\n",
       "      <td>3186</td>\n",
       "      <td>Grove St PATH</td>\n",
       "      <td>40.719586</td>\n",
       "      <td>-74.043117</td>\n",
       "      <td>42437</td>\n",
       "      <td>Subscriber</td>\n",
       "      <td>1972</td>\n",
       "      <td>2</td>\n",
       "      <td>0.465771</td>\n",
       "    </tr>\n",
       "  </tbody>\n",
       "</table>\n",
       "</div>"
      ],
      "text/plain": [
       "   tripduration                 starttime                  stoptime  \\\n",
       "0           122  2020-06-01 00:02:21.7500  2020-06-01 00:04:24.3250   \n",
       "1          1282  2020-06-01 00:12:27.1090  2020-06-01 00:33:50.0540   \n",
       "2           186  2020-06-01 01:19:59.2090  2020-06-01 01:23:05.8930   \n",
       "3           131  2020-06-01 01:26:42.2050  2020-06-01 01:28:53.8040   \n",
       "4           266  2020-06-01 01:27:33.7090  2020-06-01 01:32:00.1890   \n",
       "\n",
       "   start_station_id          start_station_name  start_station_latitude  \\\n",
       "0              3792  Columbus Dr at Exchange Pl               40.716870   \n",
       "1              3198            Heights Elevator               40.748716   \n",
       "2              3275              Columbus Drive               40.718355   \n",
       "3              3267                Morris Canal               40.712419   \n",
       "4              3639                  Harborside               40.719252   \n",
       "\n",
       "   start_station_longitude  end_station_id  end_station_name  \\\n",
       "0               -74.032810            3639        Harborside   \n",
       "1               -74.040443            3276  Marin Light Rail   \n",
       "2               -74.038914            3681          Grand St   \n",
       "3               -74.038526            3681          Grand St   \n",
       "4               -74.034234            3186     Grove St PATH   \n",
       "\n",
       "   end_station_latitude  end_station_longitude  bikeid    usertype  \\\n",
       "0             40.719252             -74.034234   42489  Subscriber   \n",
       "1             40.714584             -74.042817   42183  Subscriber   \n",
       "2             40.715178             -74.037683   42140  Subscriber   \n",
       "3             40.715178             -74.037683   42120  Subscriber   \n",
       "4             40.719586             -74.043117   42437  Subscriber   \n",
       "\n",
       "   birth_year  gender  distance_miles  \n",
       "0        1987       1        0.180668  \n",
       "1        1988       1        2.361559  \n",
       "2        1987       1        0.228816  \n",
       "3        1987       1        0.195655  \n",
       "4        1972       2        0.465771  "
      ]
     },
     "execution_count": 12,
     "metadata": {},
     "output_type": "execute_result"
    }
   ],
   "source": [
    "# Checking for column distance_miles\n",
    "df_bikes.head()"
   ]
  },
  {
   "cell_type": "markdown",
   "metadata": {},
   "source": [
    "## Quality - I"
   ]
  },
  {
   "cell_type": "markdown",
   "metadata": {},
   "source": [
    "### Converting Data types"
   ]
  },
  {
   "cell_type": "markdown",
   "metadata": {},
   "source": [
    "#### we need to convert starttime , stoptime to date\n",
    "#### bikeid, start_station_id, end_station_id to string\n",
    "#### gender and usertype to category"
   ]
  },
  {
   "cell_type": "code",
   "execution_count": 13,
   "metadata": {},
   "outputs": [],
   "source": [
    "# Using pandas.astype() to change data types of above columns\n",
    "df_bikes['starttime'] = df_bikes[\"starttime\"].astype('datetime64[ns]')\n",
    "df_bikes['stoptime'] =  df_bikes[\"stoptime\"].astype('datetime64[ns]')\n",
    "\n",
    "df_bikes['start_station_id'] = df_bikes['start_station_id'].astype('str')\n",
    "df_bikes['end_station_id'] = df_bikes['end_station_id'].astype('str')\n",
    "df_bikes['bikeid'] = df_bikes['bikeid'].astype('str')\n",
    "\n",
    "df_bikes['usertype'] = df_bikes['usertype'].astype('category')\n",
    "df_bikes['gender'] = df_bikes['gender'].astype('category')"
   ]
  },
  {
   "cell_type": "code",
   "execution_count": 14,
   "metadata": {},
   "outputs": [
    {
     "name": "stdout",
     "output_type": "stream",
     "text": [
      "<class 'pandas.core.frame.DataFrame'>\n",
      "RangeIndex: 36921 entries, 0 to 36920\n",
      "Data columns (total 16 columns):\n",
      " #   Column                   Non-Null Count  Dtype         \n",
      "---  ------                   --------------  -----         \n",
      " 0   tripduration             36921 non-null  int64         \n",
      " 1   starttime                36921 non-null  datetime64[ns]\n",
      " 2   stoptime                 36921 non-null  datetime64[ns]\n",
      " 3   start_station_id         36921 non-null  object        \n",
      " 4   start_station_name       36921 non-null  object        \n",
      " 5   start_station_latitude   36921 non-null  float64       \n",
      " 6   start_station_longitude  36921 non-null  float64       \n",
      " 7   end_station_id           36921 non-null  object        \n",
      " 8   end_station_name         36921 non-null  object        \n",
      " 9   end_station_latitude     36921 non-null  float64       \n",
      " 10  end_station_longitude    36921 non-null  float64       \n",
      " 11  bikeid                   36921 non-null  object        \n",
      " 12  usertype                 36921 non-null  category      \n",
      " 13  birth_year               36921 non-null  int64         \n",
      " 14  gender                   36921 non-null  category      \n",
      " 15  distance_miles           36921 non-null  float64       \n",
      "dtypes: category(2), datetime64[ns](2), float64(5), int64(2), object(5)\n",
      "memory usage: 4.0+ MB\n"
     ]
    }
   ],
   "source": [
    "# Checking data types\n",
    "df_bikes.info()"
   ]
  },
  {
   "cell_type": "markdown",
   "metadata": {},
   "source": [
    "## Quality - II\n",
    "\n",
    "### It is clear from above analysis that rows where start_station_id is null have end_station_id also null. SO I will exclude these rows in analysis"
   ]
  },
  {
   "cell_type": "code",
   "execution_count": 15,
   "metadata": {},
   "outputs": [
    {
     "data": {
      "text/html": [
       "<div>\n",
       "<style scoped>\n",
       "    .dataframe tbody tr th:only-of-type {\n",
       "        vertical-align: middle;\n",
       "    }\n",
       "\n",
       "    .dataframe tbody tr th {\n",
       "        vertical-align: top;\n",
       "    }\n",
       "\n",
       "    .dataframe thead th {\n",
       "        text-align: right;\n",
       "    }\n",
       "</style>\n",
       "<table border=\"1\" class=\"dataframe\">\n",
       "  <thead>\n",
       "    <tr style=\"text-align: right;\">\n",
       "      <th></th>\n",
       "      <th>tripduration</th>\n",
       "      <th>starttime</th>\n",
       "      <th>stoptime</th>\n",
       "      <th>start_station_id</th>\n",
       "      <th>start_station_name</th>\n",
       "      <th>start_station_latitude</th>\n",
       "      <th>start_station_longitude</th>\n",
       "      <th>end_station_id</th>\n",
       "      <th>end_station_name</th>\n",
       "      <th>end_station_latitude</th>\n",
       "      <th>end_station_longitude</th>\n",
       "      <th>bikeid</th>\n",
       "      <th>usertype</th>\n",
       "      <th>birth_year</th>\n",
       "      <th>gender</th>\n",
       "      <th>distance_miles</th>\n",
       "    </tr>\n",
       "  </thead>\n",
       "  <tbody>\n",
       "  </tbody>\n",
       "</table>\n",
       "</div>"
      ],
      "text/plain": [
       "Empty DataFrame\n",
       "Columns: [tripduration, starttime, stoptime, start_station_id, start_station_name, start_station_latitude, start_station_longitude, end_station_id, end_station_name, end_station_latitude, end_station_longitude, bikeid, usertype, birth_year, gender, distance_miles]\n",
       "Index: []"
      ]
     },
     "execution_count": 15,
     "metadata": {},
     "output_type": "execute_result"
    }
   ],
   "source": [
    "df = df_bikes.query('start_station_id ==0')\n",
    "df"
   ]
  },
  {
   "cell_type": "markdown",
   "metadata": {},
   "source": [
    "### checking null values"
   ]
  },
  {
   "cell_type": "code",
   "execution_count": 16,
   "metadata": {},
   "outputs": [
    {
     "data": {
      "text/plain": [
       "tripduration               0\n",
       "starttime                  0\n",
       "stoptime                   0\n",
       "start_station_id           0\n",
       "start_station_name         0\n",
       "start_station_latitude     0\n",
       "start_station_longitude    0\n",
       "end_station_id             0\n",
       "end_station_name           0\n",
       "end_station_latitude       0\n",
       "end_station_longitude      0\n",
       "bikeid                     0\n",
       "usertype                   0\n",
       "birth_year                 0\n",
       "gender                     0\n",
       "distance_miles             0\n",
       "dtype: int64"
      ]
     },
     "execution_count": 16,
     "metadata": {},
     "output_type": "execute_result"
    }
   ],
   "source": [
    "df_bikes.isna().sum()"
   ]
  },
  {
   "cell_type": "markdown",
   "metadata": {},
   "source": [
    "### Checking Duplicate values\n"
   ]
  },
  {
   "cell_type": "code",
   "execution_count": 17,
   "metadata": {},
   "outputs": [
    {
     "data": {
      "text/plain": [
       "0"
      ]
     },
     "execution_count": 17,
     "metadata": {},
     "output_type": "execute_result"
    }
   ],
   "source": [
    "df_bikes.duplicated().sum()"
   ]
  },
  {
   "cell_type": "markdown",
   "metadata": {},
   "source": [
    "> There is no duplicated values and null values present in our data set"
   ]
  },
  {
   "cell_type": "markdown",
   "metadata": {},
   "source": [
    "## Tideness - II\n",
    "\n",
    "#### Extracting the date, month, day, hour from the start date column for more analysis."
   ]
  },
  {
   "cell_type": "code",
   "execution_count": 18,
   "metadata": {},
   "outputs": [],
   "source": [
    "# For extracting different Date formats, I will be using date time .dt function\n",
    "df_bikes['start_date'] = pd.to_datetime(df['starttime']).dt.date\n",
    "\n",
    "df_bikes['start_date'] = df_bikes['start_date'].astype('datetime64')\n",
    "\n",
    "df_bikes['month'] = df_bikes.starttime.dt.month_name()\n",
    "\n",
    "df_bikes['day']=df_bikes.starttime.dt.day_name()\n",
    "\n",
    "df_bikes['start_hourofday']=df_bikes.starttime.dt.hour"
   ]
  },
  {
   "cell_type": "code",
   "execution_count": 19,
   "metadata": {},
   "outputs": [
    {
     "name": "stdout",
     "output_type": "stream",
     "text": [
      "<class 'pandas.core.frame.DataFrame'>\n",
      "RangeIndex: 36921 entries, 0 to 36920\n",
      "Data columns (total 20 columns):\n",
      " #   Column                   Non-Null Count  Dtype         \n",
      "---  ------                   --------------  -----         \n",
      " 0   tripduration             36921 non-null  int64         \n",
      " 1   starttime                36921 non-null  datetime64[ns]\n",
      " 2   stoptime                 36921 non-null  datetime64[ns]\n",
      " 3   start_station_id         36921 non-null  object        \n",
      " 4   start_station_name       36921 non-null  object        \n",
      " 5   start_station_latitude   36921 non-null  float64       \n",
      " 6   start_station_longitude  36921 non-null  float64       \n",
      " 7   end_station_id           36921 non-null  object        \n",
      " 8   end_station_name         36921 non-null  object        \n",
      " 9   end_station_latitude     36921 non-null  float64       \n",
      " 10  end_station_longitude    36921 non-null  float64       \n",
      " 11  bikeid                   36921 non-null  object        \n",
      " 12  usertype                 36921 non-null  category      \n",
      " 13  birth_year               36921 non-null  int64         \n",
      " 14  gender                   36921 non-null  category      \n",
      " 15  distance_miles           36921 non-null  float64       \n",
      " 16  start_date               0 non-null      datetime64[ns]\n",
      " 17  month                    36921 non-null  object        \n",
      " 18  day                      36921 non-null  object        \n",
      " 19  start_hourofday          36921 non-null  int64         \n",
      "dtypes: category(2), datetime64[ns](3), float64(5), int64(3), object(7)\n",
      "memory usage: 5.1+ MB\n"
     ]
    }
   ],
   "source": [
    "# Checking dtypes\n",
    "df_bikes.info()"
   ]
  },
  {
   "cell_type": "markdown",
   "metadata": {},
   "source": [
    "## Quality - III\n",
    "\n",
    "#### changing the values in gender column. 0 to unknown, 1- male, 2 - female as per description given in dataset"
   ]
  },
  {
   "cell_type": "code",
   "execution_count": 20,
   "metadata": {},
   "outputs": [],
   "source": [
    "# Use pandas.replace function\n",
    "df_bikes['gender'].replace(0, 'Unknown',inplace=True)\n",
    "df_bikes['gender'].replace(1, 'Male',inplace=True)\n",
    "df_bikes['gender'].replace(2, 'Female',inplace=True)"
   ]
  },
  {
   "cell_type": "code",
   "execution_count": 21,
   "metadata": {},
   "outputs": [
    {
     "data": {
      "text/plain": [
       "Male       19181\n",
       "Female      9826\n",
       "Unknown     7914\n",
       "Name: gender, dtype: int64"
      ]
     },
     "execution_count": 21,
     "metadata": {},
     "output_type": "execute_result"
    }
   ],
   "source": [
    "# Test\n",
    "df_bikes.gender.value_counts()"
   ]
  },
  {
   "cell_type": "markdown",
   "metadata": {},
   "source": [
    "## Tidyness - III\n",
    "\n",
    "#### Calculating age of the customer as birthdate is given. age is calculated by difference today date with birthyear"
   ]
  },
  {
   "cell_type": "code",
   "execution_count": 22,
   "metadata": {},
   "outputs": [],
   "source": [
    "#Creating current year column\n",
    "current_year = int(pd.to_datetime(\"today\").strftime('%Y')) "
   ]
  },
  {
   "cell_type": "code",
   "execution_count": 23,
   "metadata": {},
   "outputs": [],
   "source": [
    "# calculating age\n",
    "df_bikes['user_age'] = current_year - df_bikes.birth_year"
   ]
  },
  {
   "cell_type": "code",
   "execution_count": 24,
   "metadata": {},
   "outputs": [
    {
     "data": {
      "text/plain": [
       "51    7909\n",
       "30    1753\n",
       "31    1676\n",
       "29    1623\n",
       "28    1488\n",
       "      ... \n",
       "65       6\n",
       "74       4\n",
       "72       4\n",
       "76       3\n",
       "79       1\n",
       "Name: user_age, Length: 61, dtype: int64"
      ]
     },
     "execution_count": 24,
     "metadata": {},
     "output_type": "execute_result"
    }
   ],
   "source": [
    "#Test the age column\n",
    "df_bikes.user_age.value_counts()"
   ]
  },
  {
   "cell_type": "markdown",
   "metadata": {},
   "source": [
    "> Age column will be important feature in analysing user behaviour"
   ]
  },
  {
   "cell_type": "markdown",
   "metadata": {},
   "source": [
    "### Exploring Age Column"
   ]
  },
  {
   "cell_type": "code",
   "execution_count": 25,
   "metadata": {},
   "outputs": [
    {
     "data": {
      "image/png": "[encoded data removed]",
      "text/plain": [
       "<Figure size 1440x720 with 4 Axes>"
      ]
     },
     "metadata": {
      "needs_background": "light"
     },
     "output_type": "display_data"
    }
   ],
   "source": [
    "# Exlporing \"user Age variable through different statistical charts such as boxplot, histogram and violin plot.\n",
    "base_color = \"blue\"\n",
    "plt.figure(figsize = [20, 10])\n",
    "\n",
    "plt.subplot(2,2,1)\n",
    "sns.boxplot(data = df_bikes, y = 'user_age')\n",
    "plt.ylabel(\"Age\")\n",
    "plt.title(\"Age Boxplot\");\n",
    "\n",
    "\n",
    "plt.subplot(2, 2, 2)\n",
    "ax = sns.boxplot(data = df_bikes,x=\"gender\", y=\"user_age\")\n",
    "plt.ylabel(\"Age\")\n",
    "plt.title(\"Age Boxplot by Gender\");\n",
    "\n",
    "\n",
    "plt.subplot(2, 2, 3)\n",
    "bins = np.arange(df_bikes.user_age.min()-2, df_bikes.user_age.max()+2,2)\n",
    "plt.hist(df_bikes.user_age, bins = bins)\n",
    "plt.xlabel(\"Age\")\n",
    "plt.ylabel(\"User Counts\")\n",
    "plt.title(\"Age Histogram\");\n",
    "\n",
    "plt.subplot(2, 2, 4)\n",
    "sns.violinplot(data = df_bikes, y = 'user_age')\n",
    "plt.ylabel(\"Age\")\n",
    "plt.xlabel(\"Frequency\")\n",
    "plt.title(\"Age Violinplot\");"
   ]
  },
  {
   "cell_type": "markdown",
   "metadata": {},
   "source": [
    ">#Upper whisker Bound (50-30)+(1.5*IQR)\n",
    "\n",
    ">#Upper whisker Bound  = 75.5."
   ]
  },
  {
   "cell_type": "markdown",
   "metadata": {},
   "source": [
    "## Quality IV:\n",
    "### Removing rows where age is > 75 based on Upper whisker bound.\n",
    "#### Pleasse note this is done based on the instructor note in the lesson. I am removing all users whose age is more than upper whisker"
   ]
  },
  {
   "cell_type": "code",
   "execution_count": 26,
   "metadata": {},
   "outputs": [],
   "source": [
    "df_bikes = df_bikes[df_bikes.user_age <= 75]"
   ]
  },
  {
   "cell_type": "code",
   "execution_count": 27,
   "metadata": {},
   "outputs": [
    {
     "data": {
      "text/html": [
       "<div>\n",
       "<style scoped>\n",
       "    .dataframe tbody tr th:only-of-type {\n",
       "        vertical-align: middle;\n",
       "    }\n",
       "\n",
       "    .dataframe tbody tr th {\n",
       "        vertical-align: top;\n",
       "    }\n",
       "\n",
       "    .dataframe thead th {\n",
       "        text-align: right;\n",
       "    }\n",
       "</style>\n",
       "<table border=\"1\" class=\"dataframe\">\n",
       "  <thead>\n",
       "    <tr style=\"text-align: right;\">\n",
       "      <th></th>\n",
       "      <th>tripduration</th>\n",
       "      <th>starttime</th>\n",
       "      <th>stoptime</th>\n",
       "      <th>start_station_id</th>\n",
       "      <th>start_station_name</th>\n",
       "      <th>start_station_latitude</th>\n",
       "      <th>start_station_longitude</th>\n",
       "      <th>end_station_id</th>\n",
       "      <th>end_station_name</th>\n",
       "      <th>end_station_latitude</th>\n",
       "      <th>...</th>\n",
       "      <th>bikeid</th>\n",
       "      <th>usertype</th>\n",
       "      <th>birth_year</th>\n",
       "      <th>gender</th>\n",
       "      <th>distance_miles</th>\n",
       "      <th>start_date</th>\n",
       "      <th>month</th>\n",
       "      <th>day</th>\n",
       "      <th>start_hourofday</th>\n",
       "      <th>user_age</th>\n",
       "    </tr>\n",
       "  </thead>\n",
       "  <tbody>\n",
       "    <tr>\n",
       "      <th>0</th>\n",
       "      <td>122</td>\n",
       "      <td>2020-06-01 00:02:21.750</td>\n",
       "      <td>2020-06-01 00:04:24.325</td>\n",
       "      <td>3792</td>\n",
       "      <td>Columbus Dr at Exchange Pl</td>\n",
       "      <td>40.716870</td>\n",
       "      <td>-74.032810</td>\n",
       "      <td>3639</td>\n",
       "      <td>Harborside</td>\n",
       "      <td>40.719252</td>\n",
       "      <td>...</td>\n",
       "      <td>42489</td>\n",
       "      <td>Subscriber</td>\n",
       "      <td>1987</td>\n",
       "      <td>Male</td>\n",
       "      <td>0.180668</td>\n",
       "      <td>NaT</td>\n",
       "      <td>June</td>\n",
       "      <td>Monday</td>\n",
       "      <td>0</td>\n",
       "      <td>33</td>\n",
       "    </tr>\n",
       "    <tr>\n",
       "      <th>1</th>\n",
       "      <td>1282</td>\n",
       "      <td>2020-06-01 00:12:27.109</td>\n",
       "      <td>2020-06-01 00:33:50.054</td>\n",
       "      <td>3198</td>\n",
       "      <td>Heights Elevator</td>\n",
       "      <td>40.748716</td>\n",
       "      <td>-74.040443</td>\n",
       "      <td>3276</td>\n",
       "      <td>Marin Light Rail</td>\n",
       "      <td>40.714584</td>\n",
       "      <td>...</td>\n",
       "      <td>42183</td>\n",
       "      <td>Subscriber</td>\n",
       "      <td>1988</td>\n",
       "      <td>Male</td>\n",
       "      <td>2.361559</td>\n",
       "      <td>NaT</td>\n",
       "      <td>June</td>\n",
       "      <td>Monday</td>\n",
       "      <td>0</td>\n",
       "      <td>32</td>\n",
       "    </tr>\n",
       "    <tr>\n",
       "      <th>2</th>\n",
       "      <td>186</td>\n",
       "      <td>2020-06-01 01:19:59.209</td>\n",
       "      <td>2020-06-01 01:23:05.893</td>\n",
       "      <td>3275</td>\n",
       "      <td>Columbus Drive</td>\n",
       "      <td>40.718355</td>\n",
       "      <td>-74.038914</td>\n",
       "      <td>3681</td>\n",
       "      <td>Grand St</td>\n",
       "      <td>40.715178</td>\n",
       "      <td>...</td>\n",
       "      <td>42140</td>\n",
       "      <td>Subscriber</td>\n",
       "      <td>1987</td>\n",
       "      <td>Male</td>\n",
       "      <td>0.228816</td>\n",
       "      <td>NaT</td>\n",
       "      <td>June</td>\n",
       "      <td>Monday</td>\n",
       "      <td>1</td>\n",
       "      <td>33</td>\n",
       "    </tr>\n",
       "    <tr>\n",
       "      <th>3</th>\n",
       "      <td>131</td>\n",
       "      <td>2020-06-01 01:26:42.205</td>\n",
       "      <td>2020-06-01 01:28:53.804</td>\n",
       "      <td>3267</td>\n",
       "      <td>Morris Canal</td>\n",
       "      <td>40.712419</td>\n",
       "      <td>-74.038526</td>\n",
       "      <td>3681</td>\n",
       "      <td>Grand St</td>\n",
       "      <td>40.715178</td>\n",
       "      <td>...</td>\n",
       "      <td>42120</td>\n",
       "      <td>Subscriber</td>\n",
       "      <td>1987</td>\n",
       "      <td>Male</td>\n",
       "      <td>0.195655</td>\n",
       "      <td>NaT</td>\n",
       "      <td>June</td>\n",
       "      <td>Monday</td>\n",
       "      <td>1</td>\n",
       "      <td>33</td>\n",
       "    </tr>\n",
       "    <tr>\n",
       "      <th>4</th>\n",
       "      <td>266</td>\n",
       "      <td>2020-06-01 01:27:33.709</td>\n",
       "      <td>2020-06-01 01:32:00.189</td>\n",
       "      <td>3639</td>\n",
       "      <td>Harborside</td>\n",
       "      <td>40.719252</td>\n",
       "      <td>-74.034234</td>\n",
       "      <td>3186</td>\n",
       "      <td>Grove St PATH</td>\n",
       "      <td>40.719586</td>\n",
       "      <td>...</td>\n",
       "      <td>42437</td>\n",
       "      <td>Subscriber</td>\n",
       "      <td>1972</td>\n",
       "      <td>Female</td>\n",
       "      <td>0.465771</td>\n",
       "      <td>NaT</td>\n",
       "      <td>June</td>\n",
       "      <td>Monday</td>\n",
       "      <td>1</td>\n",
       "      <td>48</td>\n",
       "    </tr>\n",
       "  </tbody>\n",
       "</table>\n",
       "<p>5 rows × 21 columns</p>\n",
       "</div>"
      ],
      "text/plain": [
       "   tripduration               starttime                stoptime  \\\n",
       "0           122 2020-06-01 00:02:21.750 2020-06-01 00:04:24.325   \n",
       "1          1282 2020-06-01 00:12:27.109 2020-06-01 00:33:50.054   \n",
       "2           186 2020-06-01 01:19:59.209 2020-06-01 01:23:05.893   \n",
       "3           131 2020-06-01 01:26:42.205 2020-06-01 01:28:53.804   \n",
       "4           266 2020-06-01 01:27:33.709 2020-06-01 01:32:00.189   \n",
       "\n",
       "  start_station_id          start_station_name  start_station_latitude  \\\n",
       "0             3792  Columbus Dr at Exchange Pl               40.716870   \n",
       "1             3198            Heights Elevator               40.748716   \n",
       "2             3275              Columbus Drive               40.718355   \n",
       "3             3267                Morris Canal               40.712419   \n",
       "4             3639                  Harborside               40.719252   \n",
       "\n",
       "   start_station_longitude end_station_id  end_station_name  \\\n",
       "0               -74.032810           3639        Harborside   \n",
       "1               -74.040443           3276  Marin Light Rail   \n",
       "2               -74.038914           3681          Grand St   \n",
       "3               -74.038526           3681          Grand St   \n",
       "4               -74.034234           3186     Grove St PATH   \n",
       "\n",
       "   end_station_latitude  ...  bikeid    usertype birth_year  gender  \\\n",
       "0             40.719252  ...   42489  Subscriber       1987    Male   \n",
       "1             40.714584  ...   42183  Subscriber       1988    Male   \n",
       "2             40.715178  ...   42140  Subscriber       1987    Male   \n",
       "3             40.715178  ...   42120  Subscriber       1987    Male   \n",
       "4             40.719586  ...   42437  Subscriber       1972  Female   \n",
       "\n",
       "  distance_miles  start_date month     day start_hourofday  user_age  \n",
       "0       0.180668         NaT  June  Monday               0        33  \n",
       "1       2.361559         NaT  June  Monday               0        32  \n",
       "2       0.228816         NaT  June  Monday               1        33  \n",
       "3       0.195655         NaT  June  Monday               1        33  \n",
       "4       0.465771         NaT  June  Monday               1        48  \n",
       "\n",
       "[5 rows x 21 columns]"
      ]
     },
     "execution_count": 27,
     "metadata": {},
     "output_type": "execute_result"
    }
   ],
   "source": [
    "df_bikes.head()"
   ]
  },
  {
   "cell_type": "code",
   "execution_count": 28,
   "metadata": {},
   "outputs": [
    {
     "data": {
      "text/plain": [
       "74"
      ]
     },
     "execution_count": 28,
     "metadata": {},
     "output_type": "execute_result"
    }
   ],
   "source": [
    "#Chekcing the User column\n",
    "df_bikes.user_age.max()"
   ]
  },
  {
   "cell_type": "code",
   "execution_count": 29,
   "metadata": {},
   "outputs": [
    {
     "data": {
      "text/plain": [
       "36917"
      ]
     },
     "execution_count": 29,
     "metadata": {},
     "output_type": "execute_result"
    }
   ],
   "source": [
    "df_bikes.shape[0]"
   ]
  },
  {
   "cell_type": "markdown",
   "metadata": {},
   "source": [
    "## Quality - V\n",
    "### Exploring time duration which in sec converting to minutes"
   ]
  },
  {
   "cell_type": "code",
   "execution_count": 30,
   "metadata": {},
   "outputs": [
    {
     "data": {
      "text/html": [
       "<div>\n",
       "<style scoped>\n",
       "    .dataframe tbody tr th:only-of-type {\n",
       "        vertical-align: middle;\n",
       "    }\n",
       "\n",
       "    .dataframe tbody tr th {\n",
       "        vertical-align: top;\n",
       "    }\n",
       "\n",
       "    .dataframe thead th {\n",
       "        text-align: right;\n",
       "    }\n",
       "</style>\n",
       "<table border=\"1\" class=\"dataframe\">\n",
       "  <thead>\n",
       "    <tr style=\"text-align: right;\">\n",
       "      <th></th>\n",
       "      <th>tripduration</th>\n",
       "      <th>starttime</th>\n",
       "      <th>stoptime</th>\n",
       "      <th>start_station_id</th>\n",
       "      <th>start_station_name</th>\n",
       "      <th>start_station_latitude</th>\n",
       "      <th>start_station_longitude</th>\n",
       "      <th>end_station_id</th>\n",
       "      <th>end_station_name</th>\n",
       "      <th>end_station_latitude</th>\n",
       "      <th>...</th>\n",
       "      <th>usertype</th>\n",
       "      <th>birth_year</th>\n",
       "      <th>gender</th>\n",
       "      <th>distance_miles</th>\n",
       "      <th>start_date</th>\n",
       "      <th>month</th>\n",
       "      <th>day</th>\n",
       "      <th>start_hourofday</th>\n",
       "      <th>user_age</th>\n",
       "      <th>duration_minutes</th>\n",
       "    </tr>\n",
       "  </thead>\n",
       "  <tbody>\n",
       "    <tr>\n",
       "      <th>0</th>\n",
       "      <td>122</td>\n",
       "      <td>2020-06-01 00:02:21.750</td>\n",
       "      <td>2020-06-01 00:04:24.325</td>\n",
       "      <td>3792</td>\n",
       "      <td>Columbus Dr at Exchange Pl</td>\n",
       "      <td>40.716870</td>\n",
       "      <td>-74.032810</td>\n",
       "      <td>3639</td>\n",
       "      <td>Harborside</td>\n",
       "      <td>40.719252</td>\n",
       "      <td>...</td>\n",
       "      <td>Subscriber</td>\n",
       "      <td>1987</td>\n",
       "      <td>Male</td>\n",
       "      <td>0.180668</td>\n",
       "      <td>NaT</td>\n",
       "      <td>June</td>\n",
       "      <td>Monday</td>\n",
       "      <td>0</td>\n",
       "      <td>33</td>\n",
       "      <td>2.03</td>\n",
       "    </tr>\n",
       "    <tr>\n",
       "      <th>1</th>\n",
       "      <td>1282</td>\n",
       "      <td>2020-06-01 00:12:27.109</td>\n",
       "      <td>2020-06-01 00:33:50.054</td>\n",
       "      <td>3198</td>\n",
       "      <td>Heights Elevator</td>\n",
       "      <td>40.748716</td>\n",
       "      <td>-74.040443</td>\n",
       "      <td>3276</td>\n",
       "      <td>Marin Light Rail</td>\n",
       "      <td>40.714584</td>\n",
       "      <td>...</td>\n",
       "      <td>Subscriber</td>\n",
       "      <td>1988</td>\n",
       "      <td>Male</td>\n",
       "      <td>2.361559</td>\n",
       "      <td>NaT</td>\n",
       "      <td>June</td>\n",
       "      <td>Monday</td>\n",
       "      <td>0</td>\n",
       "      <td>32</td>\n",
       "      <td>21.37</td>\n",
       "    </tr>\n",
       "    <tr>\n",
       "      <th>2</th>\n",
       "      <td>186</td>\n",
       "      <td>2020-06-01 01:19:59.209</td>\n",
       "      <td>2020-06-01 01:23:05.893</td>\n",
       "      <td>3275</td>\n",
       "      <td>Columbus Drive</td>\n",
       "      <td>40.718355</td>\n",
       "      <td>-74.038914</td>\n",
       "      <td>3681</td>\n",
       "      <td>Grand St</td>\n",
       "      <td>40.715178</td>\n",
       "      <td>...</td>\n",
       "      <td>Subscriber</td>\n",
       "      <td>1987</td>\n",
       "      <td>Male</td>\n",
       "      <td>0.228816</td>\n",
       "      <td>NaT</td>\n",
       "      <td>June</td>\n",
       "      <td>Monday</td>\n",
       "      <td>1</td>\n",
       "      <td>33</td>\n",
       "      <td>3.10</td>\n",
       "    </tr>\n",
       "    <tr>\n",
       "      <th>3</th>\n",
       "      <td>131</td>\n",
       "      <td>2020-06-01 01:26:42.205</td>\n",
       "      <td>2020-06-01 01:28:53.804</td>\n",
       "      <td>3267</td>\n",
       "      <td>Morris Canal</td>\n",
       "      <td>40.712419</td>\n",
       "      <td>-74.038526</td>\n",
       "      <td>3681</td>\n",
       "      <td>Grand St</td>\n",
       "      <td>40.715178</td>\n",
       "      <td>...</td>\n",
       "      <td>Subscriber</td>\n",
       "      <td>1987</td>\n",
       "      <td>Male</td>\n",
       "      <td>0.195655</td>\n",
       "      <td>NaT</td>\n",
       "      <td>June</td>\n",
       "      <td>Monday</td>\n",
       "      <td>1</td>\n",
       "      <td>33</td>\n",
       "      <td>2.18</td>\n",
       "    </tr>\n",
       "    <tr>\n",
       "      <th>4</th>\n",
       "      <td>266</td>\n",
       "      <td>2020-06-01 01:27:33.709</td>\n",
       "      <td>2020-06-01 01:32:00.189</td>\n",
       "      <td>3639</td>\n",
       "      <td>Harborside</td>\n",
       "      <td>40.719252</td>\n",
       "      <td>-74.034234</td>\n",
       "      <td>3186</td>\n",
       "      <td>Grove St PATH</td>\n",
       "      <td>40.719586</td>\n",
       "      <td>...</td>\n",
       "      <td>Subscriber</td>\n",
       "      <td>1972</td>\n",
       "      <td>Female</td>\n",
       "      <td>0.465771</td>\n",
       "      <td>NaT</td>\n",
       "      <td>June</td>\n",
       "      <td>Monday</td>\n",
       "      <td>1</td>\n",
       "      <td>48</td>\n",
       "      <td>4.43</td>\n",
       "    </tr>\n",
       "  </tbody>\n",
       "</table>\n",
       "<p>5 rows × 22 columns</p>\n",
       "</div>"
      ],
      "text/plain": [
       "   tripduration               starttime                stoptime  \\\n",
       "0           122 2020-06-01 00:02:21.750 2020-06-01 00:04:24.325   \n",
       "1          1282 2020-06-01 00:12:27.109 2020-06-01 00:33:50.054   \n",
       "2           186 2020-06-01 01:19:59.209 2020-06-01 01:23:05.893   \n",
       "3           131 2020-06-01 01:26:42.205 2020-06-01 01:28:53.804   \n",
       "4           266 2020-06-01 01:27:33.709 2020-06-01 01:32:00.189   \n",
       "\n",
       "  start_station_id          start_station_name  start_station_latitude  \\\n",
       "0             3792  Columbus Dr at Exchange Pl               40.716870   \n",
       "1             3198            Heights Elevator               40.748716   \n",
       "2             3275              Columbus Drive               40.718355   \n",
       "3             3267                Morris Canal               40.712419   \n",
       "4             3639                  Harborside               40.719252   \n",
       "\n",
       "   start_station_longitude end_station_id  end_station_name  \\\n",
       "0               -74.032810           3639        Harborside   \n",
       "1               -74.040443           3276  Marin Light Rail   \n",
       "2               -74.038914           3681          Grand St   \n",
       "3               -74.038526           3681          Grand St   \n",
       "4               -74.034234           3186     Grove St PATH   \n",
       "\n",
       "   end_station_latitude  ...    usertype birth_year  gender  distance_miles  \\\n",
       "0             40.719252  ...  Subscriber       1987    Male        0.180668   \n",
       "1             40.714584  ...  Subscriber       1988    Male        2.361559   \n",
       "2             40.715178  ...  Subscriber       1987    Male        0.228816   \n",
       "3             40.715178  ...  Subscriber       1987    Male        0.195655   \n",
       "4             40.719586  ...  Subscriber       1972  Female        0.465771   \n",
       "\n",
       "  start_date  month     day start_hourofday user_age  duration_minutes  \n",
       "0        NaT   June  Monday               0       33              2.03  \n",
       "1        NaT   June  Monday               0       32             21.37  \n",
       "2        NaT   June  Monday               1       33              3.10  \n",
       "3        NaT   June  Monday               1       33              2.18  \n",
       "4        NaT   June  Monday               1       48              4.43  \n",
       "\n",
       "[5 rows x 22 columns]"
      ]
     },
     "execution_count": 30,
     "metadata": {},
     "output_type": "execute_result"
    }
   ],
   "source": [
    "df_bikes['duration_minutes'] = round(df_bikes['tripduration'] / 60,2)\n",
    "df_bikes.head()"
   ]
  },
  {
   "cell_type": "markdown",
   "metadata": {},
   "source": [
    "### Exploring Time_duration for outliers"
   ]
  },
  {
   "cell_type": "code",
   "execution_count": 31,
   "metadata": {},
   "outputs": [
    {
     "data": {
      "image/png": "[encoded data removed]",
      "text/plain": [
       "<Figure size 432x288 with 1 Axes>"
      ]
     },
     "metadata": {
      "needs_background": "light"
     },
     "output_type": "display_data"
    }
   ],
   "source": [
    "# creating histogram using matplotlib for minutes column\n",
    "plt.hist(df_bikes.duration_minutes);\n",
    "plt.xlabel(\"Minutes\")\n",
    "plt.ylabel(\"Frequency\")\n",
    "plt.title(\"Duration in Minutes Histogram\",fontsize = 16, fontweight = 'bold');"
   ]
  },
  {
   "cell_type": "code",
   "execution_count": 32,
   "metadata": {},
   "outputs": [
    {
     "data": {
      "text/plain": [
       "5.45      42\n",
       "8.28      42\n",
       "8.68      40\n",
       "4.60      38\n",
       "9.18      37\n",
       "          ..\n",
       "168.12     1\n",
       "82.08      1\n",
       "141.62     1\n",
       "181.90     1\n",
       "120.67     1\n",
       "Name: duration_minutes, Length: 6375, dtype: int64"
      ]
     },
     "execution_count": 32,
     "metadata": {},
     "output_type": "execute_result"
    }
   ],
   "source": [
    "df_bikes.duration_minutes.value_counts()"
   ]
  },
  {
   "cell_type": "code",
   "execution_count": 33,
   "metadata": {},
   "outputs": [
    {
     "data": {
      "image/png": "[encoded data removed]",
      "text/plain": [
       "<Figure size 576x360 with 1 Axes>"
      ]
     },
     "metadata": {
      "needs_background": "light"
     },
     "output_type": "display_data"
    }
   ],
   "source": [
    "#exploring data using log function as the data is not normalized\n",
    "log_size = 0.025\n",
    "bins = 10 ** np.arange(0, np.log10(df_bikes['duration_minutes'].max())+log_size, log_size)\n",
    "\n",
    "plt.figure(figsize=[8, 5]);\n",
    "plt.hist(data = df_bikes, x = 'duration_minutes', bins = bins);\n",
    "plt.xscale('log');\n",
    "plt.xticks([1, 2, 5, 10, 20, 50, 100, 200, 500, 1000, 2000], [1, 2, 5, 10, 20, 50, 100, 200, 500, 1000, 2000]);\n",
    "plt.xlabel('duration_minutes')\n",
    "plt.ylabel(\"Frequency\")\n",
    "plt.title(\"Duration in Minutes Histogram\",fontsize = 16, fontweight = 'bold');"
   ]
  },
  {
   "cell_type": "code",
   "execution_count": 34,
   "metadata": {},
   "outputs": [
    {
     "data": {
      "text/plain": [
       "count    36917.000000\n",
       "mean        38.278379\n",
       "std        285.221479\n",
       "min          1.020000\n",
       "50%         17.450000\n",
       "99%        218.690000\n",
       "max      25906.620000\n",
       "Name: duration_minutes, dtype: float64"
      ]
     },
     "execution_count": 34,
     "metadata": {},
     "output_type": "execute_result"
    }
   ],
   "source": [
    "df_bikes.duration_minutes.describe(percentiles =[0.99])"
   ]
  },
  {
   "cell_type": "code",
   "execution_count": 35,
   "metadata": {},
   "outputs": [
    {
     "data": {
      "image/png": "[encoded data removed]",
      "text/plain": [
       "<Figure size 1008x432 with 1 Axes>"
      ]
     },
     "metadata": {
      "needs_background": "light"
     },
     "output_type": "display_data"
    }
   ],
   "source": [
    "# Creating histogram only for duration in minutes that fall in 99 % percentile that is 220 minutes by taking upper limit.\n",
    "plt.figure(figsize=(14,6))\n",
    "bins = np.arange(0, 60, 1)\n",
    "ticks = np.arange(0, 60, 5)\n",
    "plt.hist(data=df_bikes, x='duration_minutes', bins=bins, alpha = .5)\n",
    "plt.xticks(ticks, ticks)\n",
    "plt.xlabel('Trip Duration in Minute')\n",
    "plt.ylabel(\"Frequency\")\n",
    "plt.title(\"Duration in Minutes Histogram\",fontsize = 16, fontweight = 'bold');"
   ]
  },
  {
   "cell_type": "code",
   "execution_count": 36,
   "metadata": {},
   "outputs": [
    {
     "data": {
      "image/png": "[encoded data removed]",
      "text/plain": [
       "<Figure size 1008x432 with 1 Axes>"
      ]
     },
     "metadata": {
      "needs_background": "light"
     },
     "output_type": "display_data"
    }
   ],
   "source": [
    "# creating the box plot using seaborn boxplot function to dig deeper into minutes distribution\n",
    "plt.figure(figsize=(14,6))\n",
    "ax = sns.boxplot(data = df_bikes,x=\"duration_minutes\",palette='Blues')\n",
    "plt.title(\"Duration in Minutes Boxplot\",fontsize = 16, fontweight = 'bold');"
   ]
  },
  {
   "cell_type": "markdown",
   "metadata": {},
   "source": [
    "> As per the histogram and box plot, duration in minutes are right skewed and had outliers present in it."
   ]
  },
  {
   "cell_type": "markdown",
   "metadata": {},
   "source": [
    "## Quality - VI\n",
    "\n",
    "### Assessing trip distance and calculating speed "
   ]
  },
  {
   "cell_type": "code",
   "execution_count": 37,
   "metadata": {},
   "outputs": [
    {
     "data": {
      "text/plain": [
       "count    36917.000000\n",
       "mean         0.609007\n",
       "std          0.557685\n",
       "min          0.000000\n",
       "25%          0.136083\n",
       "50%          0.530335\n",
       "75%          0.903674\n",
       "max         10.254784\n",
       "Name: distance_miles, dtype: float64"
      ]
     },
     "execution_count": 37,
     "metadata": {},
     "output_type": "execute_result"
    }
   ],
   "source": [
    "df_bikes.distance_miles.describe()"
   ]
  },
  {
   "cell_type": "code",
   "execution_count": 38,
   "metadata": {},
   "outputs": [],
   "source": [
    "# creating speed column in dataframe for Speed in Miles per hour.\n",
    "df_bikes['speed']= round(df_bikes.distance_miles/((df_bikes.duration_minutes)/60),2)"
   ]
  },
  {
   "cell_type": "code",
   "execution_count": 39,
   "metadata": {},
   "outputs": [
    {
     "data": {
      "text/plain": [
       "count    36917.000000\n",
       "mean         3.077197\n",
       "std          2.731631\n",
       "min          0.000000\n",
       "25%          0.100000\n",
       "50%          2.840000\n",
       "75%          5.300000\n",
       "max         13.270000\n",
       "Name: speed, dtype: float64"
      ]
     },
     "execution_count": 39,
     "metadata": {},
     "output_type": "execute_result"
    }
   ],
   "source": [
    "# Checking speed column statistics\n",
    "df_bikes.speed.describe()"
   ]
  },
  {
   "cell_type": "markdown",
   "metadata": {},
   "source": [
    "#### As per the dataset instructions, if the speed is greater than 26 then those rows should be removed. But we don't have any value greater than 26 miles/hour"
   ]
  },
  {
   "cell_type": "markdown",
   "metadata": {},
   "source": [
    "### Removing distance_miles == 0 but Duration is not 0."
   ]
  },
  {
   "cell_type": "code",
   "execution_count": 40,
   "metadata": {},
   "outputs": [
    {
     "data": {
      "text/html": [
       "<div>\n",
       "<style scoped>\n",
       "    .dataframe tbody tr th:only-of-type {\n",
       "        vertical-align: middle;\n",
       "    }\n",
       "\n",
       "    .dataframe tbody tr th {\n",
       "        vertical-align: top;\n",
       "    }\n",
       "\n",
       "    .dataframe thead th {\n",
       "        text-align: right;\n",
       "    }\n",
       "</style>\n",
       "<table border=\"1\" class=\"dataframe\">\n",
       "  <thead>\n",
       "    <tr style=\"text-align: right;\">\n",
       "      <th></th>\n",
       "      <th>tripduration</th>\n",
       "      <th>starttime</th>\n",
       "      <th>stoptime</th>\n",
       "      <th>start_station_id</th>\n",
       "      <th>start_station_name</th>\n",
       "      <th>start_station_latitude</th>\n",
       "      <th>start_station_longitude</th>\n",
       "      <th>end_station_id</th>\n",
       "      <th>end_station_name</th>\n",
       "      <th>end_station_latitude</th>\n",
       "      <th>...</th>\n",
       "      <th>birth_year</th>\n",
       "      <th>gender</th>\n",
       "      <th>distance_miles</th>\n",
       "      <th>start_date</th>\n",
       "      <th>month</th>\n",
       "      <th>day</th>\n",
       "      <th>start_hourofday</th>\n",
       "      <th>user_age</th>\n",
       "      <th>duration_minutes</th>\n",
       "      <th>speed</th>\n",
       "    </tr>\n",
       "  </thead>\n",
       "  <tbody>\n",
       "    <tr>\n",
       "      <th>14</th>\n",
       "      <td>1703</td>\n",
       "      <td>2020-06-01 04:43:24.895</td>\n",
       "      <td>2020-06-01 05:11:48.857</td>\n",
       "      <td>3792</td>\n",
       "      <td>Columbus Dr at Exchange Pl</td>\n",
       "      <td>40.716870</td>\n",
       "      <td>-74.032810</td>\n",
       "      <td>3792</td>\n",
       "      <td>Columbus Dr at Exchange Pl</td>\n",
       "      <td>40.716870</td>\n",
       "      <td>...</td>\n",
       "      <td>1999</td>\n",
       "      <td>Female</td>\n",
       "      <td>0.0</td>\n",
       "      <td>NaT</td>\n",
       "      <td>June</td>\n",
       "      <td>Monday</td>\n",
       "      <td>4</td>\n",
       "      <td>21</td>\n",
       "      <td>28.38</td>\n",
       "      <td>0.0</td>\n",
       "    </tr>\n",
       "    <tr>\n",
       "      <th>15</th>\n",
       "      <td>1719</td>\n",
       "      <td>2020-06-01 04:43:27.347</td>\n",
       "      <td>2020-06-01 05:12:06.536</td>\n",
       "      <td>3792</td>\n",
       "      <td>Columbus Dr at Exchange Pl</td>\n",
       "      <td>40.716870</td>\n",
       "      <td>-74.032810</td>\n",
       "      <td>3792</td>\n",
       "      <td>Columbus Dr at Exchange Pl</td>\n",
       "      <td>40.716870</td>\n",
       "      <td>...</td>\n",
       "      <td>1969</td>\n",
       "      <td>Unknown</td>\n",
       "      <td>0.0</td>\n",
       "      <td>NaT</td>\n",
       "      <td>June</td>\n",
       "      <td>Monday</td>\n",
       "      <td>4</td>\n",
       "      <td>51</td>\n",
       "      <td>28.65</td>\n",
       "      <td>0.0</td>\n",
       "    </tr>\n",
       "    <tr>\n",
       "      <th>16</th>\n",
       "      <td>1707</td>\n",
       "      <td>2020-06-01 04:43:27.510</td>\n",
       "      <td>2020-06-01 05:11:54.907</td>\n",
       "      <td>3792</td>\n",
       "      <td>Columbus Dr at Exchange Pl</td>\n",
       "      <td>40.716870</td>\n",
       "      <td>-74.032810</td>\n",
       "      <td>3792</td>\n",
       "      <td>Columbus Dr at Exchange Pl</td>\n",
       "      <td>40.716870</td>\n",
       "      <td>...</td>\n",
       "      <td>1969</td>\n",
       "      <td>Unknown</td>\n",
       "      <td>0.0</td>\n",
       "      <td>NaT</td>\n",
       "      <td>June</td>\n",
       "      <td>Monday</td>\n",
       "      <td>4</td>\n",
       "      <td>51</td>\n",
       "      <td>28.45</td>\n",
       "      <td>0.0</td>\n",
       "    </tr>\n",
       "    <tr>\n",
       "      <th>17</th>\n",
       "      <td>30519</td>\n",
       "      <td>2020-06-01 04:43:32.561</td>\n",
       "      <td>2020-06-01 13:12:12.063</td>\n",
       "      <td>3792</td>\n",
       "      <td>Columbus Dr at Exchange Pl</td>\n",
       "      <td>40.716870</td>\n",
       "      <td>-74.032810</td>\n",
       "      <td>3792</td>\n",
       "      <td>Columbus Dr at Exchange Pl</td>\n",
       "      <td>40.716870</td>\n",
       "      <td>...</td>\n",
       "      <td>1969</td>\n",
       "      <td>Unknown</td>\n",
       "      <td>0.0</td>\n",
       "      <td>NaT</td>\n",
       "      <td>June</td>\n",
       "      <td>Monday</td>\n",
       "      <td>4</td>\n",
       "      <td>51</td>\n",
       "      <td>508.65</td>\n",
       "      <td>0.0</td>\n",
       "    </tr>\n",
       "    <tr>\n",
       "      <th>18</th>\n",
       "      <td>1726</td>\n",
       "      <td>2020-06-01 04:43:40.550</td>\n",
       "      <td>2020-06-01 05:12:26.936</td>\n",
       "      <td>3792</td>\n",
       "      <td>Columbus Dr at Exchange Pl</td>\n",
       "      <td>40.716870</td>\n",
       "      <td>-74.032810</td>\n",
       "      <td>3792</td>\n",
       "      <td>Columbus Dr at Exchange Pl</td>\n",
       "      <td>40.716870</td>\n",
       "      <td>...</td>\n",
       "      <td>2001</td>\n",
       "      <td>Female</td>\n",
       "      <td>0.0</td>\n",
       "      <td>NaT</td>\n",
       "      <td>June</td>\n",
       "      <td>Monday</td>\n",
       "      <td>4</td>\n",
       "      <td>19</td>\n",
       "      <td>28.77</td>\n",
       "      <td>0.0</td>\n",
       "    </tr>\n",
       "    <tr>\n",
       "      <th>...</th>\n",
       "      <td>...</td>\n",
       "      <td>...</td>\n",
       "      <td>...</td>\n",
       "      <td>...</td>\n",
       "      <td>...</td>\n",
       "      <td>...</td>\n",
       "      <td>...</td>\n",
       "      <td>...</td>\n",
       "      <td>...</td>\n",
       "      <td>...</td>\n",
       "      <td>...</td>\n",
       "      <td>...</td>\n",
       "      <td>...</td>\n",
       "      <td>...</td>\n",
       "      <td>...</td>\n",
       "      <td>...</td>\n",
       "      <td>...</td>\n",
       "      <td>...</td>\n",
       "      <td>...</td>\n",
       "      <td>...</td>\n",
       "      <td>...</td>\n",
       "    </tr>\n",
       "    <tr>\n",
       "      <th>36916</th>\n",
       "      <td>2828</td>\n",
       "      <td>2020-06-30 23:53:19.738</td>\n",
       "      <td>2020-07-01 00:40:28.576</td>\n",
       "      <td>3199</td>\n",
       "      <td>Newport Pkwy</td>\n",
       "      <td>40.728745</td>\n",
       "      <td>-74.032108</td>\n",
       "      <td>3199</td>\n",
       "      <td>Newport Pkwy</td>\n",
       "      <td>40.728745</td>\n",
       "      <td>...</td>\n",
       "      <td>1969</td>\n",
       "      <td>Unknown</td>\n",
       "      <td>0.0</td>\n",
       "      <td>NaT</td>\n",
       "      <td>June</td>\n",
       "      <td>Tuesday</td>\n",
       "      <td>23</td>\n",
       "      <td>51</td>\n",
       "      <td>47.13</td>\n",
       "      <td>0.0</td>\n",
       "    </tr>\n",
       "    <tr>\n",
       "      <th>36917</th>\n",
       "      <td>2729</td>\n",
       "      <td>2020-06-30 23:54:44.010</td>\n",
       "      <td>2020-07-01 00:40:13.647</td>\n",
       "      <td>3199</td>\n",
       "      <td>Newport Pkwy</td>\n",
       "      <td>40.728745</td>\n",
       "      <td>-74.032108</td>\n",
       "      <td>3199</td>\n",
       "      <td>Newport Pkwy</td>\n",
       "      <td>40.728745</td>\n",
       "      <td>...</td>\n",
       "      <td>1969</td>\n",
       "      <td>Unknown</td>\n",
       "      <td>0.0</td>\n",
       "      <td>NaT</td>\n",
       "      <td>June</td>\n",
       "      <td>Tuesday</td>\n",
       "      <td>23</td>\n",
       "      <td>51</td>\n",
       "      <td>45.48</td>\n",
       "      <td>0.0</td>\n",
       "    </tr>\n",
       "    <tr>\n",
       "      <th>36918</th>\n",
       "      <td>2788</td>\n",
       "      <td>2020-06-30 23:54:52.192</td>\n",
       "      <td>2020-07-01 00:41:20.650</td>\n",
       "      <td>3199</td>\n",
       "      <td>Newport Pkwy</td>\n",
       "      <td>40.728745</td>\n",
       "      <td>-74.032108</td>\n",
       "      <td>3199</td>\n",
       "      <td>Newport Pkwy</td>\n",
       "      <td>40.728745</td>\n",
       "      <td>...</td>\n",
       "      <td>1969</td>\n",
       "      <td>Unknown</td>\n",
       "      <td>0.0</td>\n",
       "      <td>NaT</td>\n",
       "      <td>June</td>\n",
       "      <td>Tuesday</td>\n",
       "      <td>23</td>\n",
       "      <td>51</td>\n",
       "      <td>46.47</td>\n",
       "      <td>0.0</td>\n",
       "    </tr>\n",
       "    <tr>\n",
       "      <th>36919</th>\n",
       "      <td>2702</td>\n",
       "      <td>2020-06-30 23:56:14.665</td>\n",
       "      <td>2020-07-01 00:41:16.782</td>\n",
       "      <td>3199</td>\n",
       "      <td>Newport Pkwy</td>\n",
       "      <td>40.728745</td>\n",
       "      <td>-74.032108</td>\n",
       "      <td>3199</td>\n",
       "      <td>Newport Pkwy</td>\n",
       "      <td>40.728745</td>\n",
       "      <td>...</td>\n",
       "      <td>1969</td>\n",
       "      <td>Unknown</td>\n",
       "      <td>0.0</td>\n",
       "      <td>NaT</td>\n",
       "      <td>June</td>\n",
       "      <td>Tuesday</td>\n",
       "      <td>23</td>\n",
       "      <td>51</td>\n",
       "      <td>45.03</td>\n",
       "      <td>0.0</td>\n",
       "    </tr>\n",
       "    <tr>\n",
       "      <th>36920</th>\n",
       "      <td>2649</td>\n",
       "      <td>2020-06-30 23:57:46.149</td>\n",
       "      <td>2020-07-01 00:41:55.506</td>\n",
       "      <td>3199</td>\n",
       "      <td>Newport Pkwy</td>\n",
       "      <td>40.728745</td>\n",
       "      <td>-74.032108</td>\n",
       "      <td>3199</td>\n",
       "      <td>Newport Pkwy</td>\n",
       "      <td>40.728745</td>\n",
       "      <td>...</td>\n",
       "      <td>1998</td>\n",
       "      <td>Female</td>\n",
       "      <td>0.0</td>\n",
       "      <td>NaT</td>\n",
       "      <td>June</td>\n",
       "      <td>Tuesday</td>\n",
       "      <td>23</td>\n",
       "      <td>22</td>\n",
       "      <td>44.15</td>\n",
       "      <td>0.0</td>\n",
       "    </tr>\n",
       "  </tbody>\n",
       "</table>\n",
       "<p>8971 rows × 23 columns</p>\n",
       "</div>"
      ],
      "text/plain": [
       "       tripduration               starttime                stoptime  \\\n",
       "14             1703 2020-06-01 04:43:24.895 2020-06-01 05:11:48.857   \n",
       "15             1719 2020-06-01 04:43:27.347 2020-06-01 05:12:06.536   \n",
       "16             1707 2020-06-01 04:43:27.510 2020-06-01 05:11:54.907   \n",
       "17            30519 2020-06-01 04:43:32.561 2020-06-01 13:12:12.063   \n",
       "18             1726 2020-06-01 04:43:40.550 2020-06-01 05:12:26.936   \n",
       "...             ...                     ...                     ...   \n",
       "36916          2828 2020-06-30 23:53:19.738 2020-07-01 00:40:28.576   \n",
       "36917          2729 2020-06-30 23:54:44.010 2020-07-01 00:40:13.647   \n",
       "36918          2788 2020-06-30 23:54:52.192 2020-07-01 00:41:20.650   \n",
       "36919          2702 2020-06-30 23:56:14.665 2020-07-01 00:41:16.782   \n",
       "36920          2649 2020-06-30 23:57:46.149 2020-07-01 00:41:55.506   \n",
       "\n",
       "      start_station_id          start_station_name  start_station_latitude  \\\n",
       "14                3792  Columbus Dr at Exchange Pl               40.716870   \n",
       "15                3792  Columbus Dr at Exchange Pl               40.716870   \n",
       "16                3792  Columbus Dr at Exchange Pl               40.716870   \n",
       "17                3792  Columbus Dr at Exchange Pl               40.716870   \n",
       "18                3792  Columbus Dr at Exchange Pl               40.716870   \n",
       "...                ...                         ...                     ...   \n",
       "36916             3199                Newport Pkwy               40.728745   \n",
       "36917             3199                Newport Pkwy               40.728745   \n",
       "36918             3199                Newport Pkwy               40.728745   \n",
       "36919             3199                Newport Pkwy               40.728745   \n",
       "36920             3199                Newport Pkwy               40.728745   \n",
       "\n",
       "       start_station_longitude end_station_id            end_station_name  \\\n",
       "14                  -74.032810           3792  Columbus Dr at Exchange Pl   \n",
       "15                  -74.032810           3792  Columbus Dr at Exchange Pl   \n",
       "16                  -74.032810           3792  Columbus Dr at Exchange Pl   \n",
       "17                  -74.032810           3792  Columbus Dr at Exchange Pl   \n",
       "18                  -74.032810           3792  Columbus Dr at Exchange Pl   \n",
       "...                        ...            ...                         ...   \n",
       "36916               -74.032108           3199                Newport Pkwy   \n",
       "36917               -74.032108           3199                Newport Pkwy   \n",
       "36918               -74.032108           3199                Newport Pkwy   \n",
       "36919               -74.032108           3199                Newport Pkwy   \n",
       "36920               -74.032108           3199                Newport Pkwy   \n",
       "\n",
       "       end_station_latitude  ...  birth_year   gender distance_miles  \\\n",
       "14                40.716870  ...        1999   Female            0.0   \n",
       "15                40.716870  ...        1969  Unknown            0.0   \n",
       "16                40.716870  ...        1969  Unknown            0.0   \n",
       "17                40.716870  ...        1969  Unknown            0.0   \n",
       "18                40.716870  ...        2001   Female            0.0   \n",
       "...                     ...  ...         ...      ...            ...   \n",
       "36916             40.728745  ...        1969  Unknown            0.0   \n",
       "36917             40.728745  ...        1969  Unknown            0.0   \n",
       "36918             40.728745  ...        1969  Unknown            0.0   \n",
       "36919             40.728745  ...        1969  Unknown            0.0   \n",
       "36920             40.728745  ...        1998   Female            0.0   \n",
       "\n",
       "       start_date month      day start_hourofday user_age duration_minutes  \\\n",
       "14            NaT  June   Monday               4       21            28.38   \n",
       "15            NaT  June   Monday               4       51            28.65   \n",
       "16            NaT  June   Monday               4       51            28.45   \n",
       "17            NaT  June   Monday               4       51           508.65   \n",
       "18            NaT  June   Monday               4       19            28.77   \n",
       "...           ...   ...      ...             ...      ...              ...   \n",
       "36916         NaT  June  Tuesday              23       51            47.13   \n",
       "36917         NaT  June  Tuesday              23       51            45.48   \n",
       "36918         NaT  June  Tuesday              23       51            46.47   \n",
       "36919         NaT  June  Tuesday              23       51            45.03   \n",
       "36920         NaT  June  Tuesday              23       22            44.15   \n",
       "\n",
       "       speed  \n",
       "14       0.0  \n",
       "15       0.0  \n",
       "16       0.0  \n",
       "17       0.0  \n",
       "18       0.0  \n",
       "...      ...  \n",
       "36916    0.0  \n",
       "36917    0.0  \n",
       "36918    0.0  \n",
       "36919    0.0  \n",
       "36920    0.0  \n",
       "\n",
       "[8971 rows x 23 columns]"
      ]
     },
     "execution_count": 40,
     "metadata": {},
     "output_type": "execute_result"
    }
   ],
   "source": [
    "df = (df_bikes.query('distance_miles == 0'))\n",
    "df"
   ]
  },
  {
   "cell_type": "code",
   "execution_count": 41,
   "metadata": {},
   "outputs": [],
   "source": [
    "# query the df which has no 0 values in distance_miles column\n",
    "df_clean = df_bikes.query('distance_miles != 0')"
   ]
  },
  {
   "cell_type": "code",
   "execution_count": 42,
   "metadata": {},
   "outputs": [
    {
     "data": {
      "text/plain": [
       "0"
      ]
     },
     "execution_count": 42,
     "metadata": {},
     "output_type": "execute_result"
    }
   ],
   "source": [
    "# Checking data frame if distance_miles has 0 values\n",
    "len(df_clean.query('distance_miles == 0'))"
   ]
  },
  {
   "cell_type": "code",
   "execution_count": 43,
   "metadata": {},
   "outputs": [
    {
     "data": {
      "text/plain": [
       "27946"
      ]
     },
     "execution_count": 43,
     "metadata": {},
     "output_type": "execute_result"
    }
   ],
   "source": [
    "df_clean.shape[0]"
   ]
  },
  {
   "cell_type": "markdown",
   "metadata": {},
   "source": [
    "### For further analysis copy the cleaned dataset to master dataset\n"
   ]
  },
  {
   "cell_type": "code",
   "execution_count": 44,
   "metadata": {},
   "outputs": [],
   "source": [
    "df_clean.to_csv('Newyork-2020-citibike-master-data.csv',index=False)"
   ]
  },
  {
   "cell_type": "markdown",
   "metadata": {},
   "source": [
    "### Importing master data for further investigations"
   ]
  },
  {
   "cell_type": "code",
   "execution_count": 45,
   "metadata": {},
   "outputs": [
    {
     "data": {
      "text/html": [
       "<div>\n",
       "<style scoped>\n",
       "    .dataframe tbody tr th:only-of-type {\n",
       "        vertical-align: middle;\n",
       "    }\n",
       "\n",
       "    .dataframe tbody tr th {\n",
       "        vertical-align: top;\n",
       "    }\n",
       "\n",
       "    .dataframe thead th {\n",
       "        text-align: right;\n",
       "    }\n",
       "</style>\n",
       "<table border=\"1\" class=\"dataframe\">\n",
       "  <thead>\n",
       "    <tr style=\"text-align: right;\">\n",
       "      <th></th>\n",
       "      <th>tripduration</th>\n",
       "      <th>starttime</th>\n",
       "      <th>stoptime</th>\n",
       "      <th>start_station_id</th>\n",
       "      <th>start_station_name</th>\n",
       "      <th>start_station_latitude</th>\n",
       "      <th>start_station_longitude</th>\n",
       "      <th>end_station_id</th>\n",
       "      <th>end_station_name</th>\n",
       "      <th>end_station_latitude</th>\n",
       "      <th>...</th>\n",
       "      <th>birth_year</th>\n",
       "      <th>gender</th>\n",
       "      <th>distance_miles</th>\n",
       "      <th>start_date</th>\n",
       "      <th>month</th>\n",
       "      <th>day</th>\n",
       "      <th>start_hourofday</th>\n",
       "      <th>user_age</th>\n",
       "      <th>duration_minutes</th>\n",
       "      <th>speed</th>\n",
       "    </tr>\n",
       "  </thead>\n",
       "  <tbody>\n",
       "    <tr>\n",
       "      <th>0</th>\n",
       "      <td>122</td>\n",
       "      <td>2020-06-01 00:02:21.750</td>\n",
       "      <td>2020-06-01 00:04:24.325</td>\n",
       "      <td>3792</td>\n",
       "      <td>Columbus Dr at Exchange Pl</td>\n",
       "      <td>40.716870</td>\n",
       "      <td>-74.032810</td>\n",
       "      <td>3639</td>\n",
       "      <td>Harborside</td>\n",
       "      <td>40.719252</td>\n",
       "      <td>...</td>\n",
       "      <td>1987</td>\n",
       "      <td>Male</td>\n",
       "      <td>0.180668</td>\n",
       "      <td>NaN</td>\n",
       "      <td>June</td>\n",
       "      <td>Monday</td>\n",
       "      <td>0</td>\n",
       "      <td>33</td>\n",
       "      <td>2.03</td>\n",
       "      <td>5.34</td>\n",
       "    </tr>\n",
       "    <tr>\n",
       "      <th>1</th>\n",
       "      <td>1282</td>\n",
       "      <td>2020-06-01 00:12:27.109</td>\n",
       "      <td>2020-06-01 00:33:50.054</td>\n",
       "      <td>3198</td>\n",
       "      <td>Heights Elevator</td>\n",
       "      <td>40.748716</td>\n",
       "      <td>-74.040443</td>\n",
       "      <td>3276</td>\n",
       "      <td>Marin Light Rail</td>\n",
       "      <td>40.714584</td>\n",
       "      <td>...</td>\n",
       "      <td>1988</td>\n",
       "      <td>Male</td>\n",
       "      <td>2.361559</td>\n",
       "      <td>NaN</td>\n",
       "      <td>June</td>\n",
       "      <td>Monday</td>\n",
       "      <td>0</td>\n",
       "      <td>32</td>\n",
       "      <td>21.37</td>\n",
       "      <td>6.63</td>\n",
       "    </tr>\n",
       "    <tr>\n",
       "      <th>2</th>\n",
       "      <td>186</td>\n",
       "      <td>2020-06-01 01:19:59.209</td>\n",
       "      <td>2020-06-01 01:23:05.893</td>\n",
       "      <td>3275</td>\n",
       "      <td>Columbus Drive</td>\n",
       "      <td>40.718355</td>\n",
       "      <td>-74.038914</td>\n",
       "      <td>3681</td>\n",
       "      <td>Grand St</td>\n",
       "      <td>40.715178</td>\n",
       "      <td>...</td>\n",
       "      <td>1987</td>\n",
       "      <td>Male</td>\n",
       "      <td>0.228816</td>\n",
       "      <td>NaN</td>\n",
       "      <td>June</td>\n",
       "      <td>Monday</td>\n",
       "      <td>1</td>\n",
       "      <td>33</td>\n",
       "      <td>3.10</td>\n",
       "      <td>4.43</td>\n",
       "    </tr>\n",
       "    <tr>\n",
       "      <th>3</th>\n",
       "      <td>131</td>\n",
       "      <td>2020-06-01 01:26:42.205</td>\n",
       "      <td>2020-06-01 01:28:53.804</td>\n",
       "      <td>3267</td>\n",
       "      <td>Morris Canal</td>\n",
       "      <td>40.712419</td>\n",
       "      <td>-74.038526</td>\n",
       "      <td>3681</td>\n",
       "      <td>Grand St</td>\n",
       "      <td>40.715178</td>\n",
       "      <td>...</td>\n",
       "      <td>1987</td>\n",
       "      <td>Male</td>\n",
       "      <td>0.195655</td>\n",
       "      <td>NaN</td>\n",
       "      <td>June</td>\n",
       "      <td>Monday</td>\n",
       "      <td>1</td>\n",
       "      <td>33</td>\n",
       "      <td>2.18</td>\n",
       "      <td>5.38</td>\n",
       "    </tr>\n",
       "    <tr>\n",
       "      <th>4</th>\n",
       "      <td>266</td>\n",
       "      <td>2020-06-01 01:27:33.709</td>\n",
       "      <td>2020-06-01 01:32:00.189</td>\n",
       "      <td>3639</td>\n",
       "      <td>Harborside</td>\n",
       "      <td>40.719252</td>\n",
       "      <td>-74.034234</td>\n",
       "      <td>3186</td>\n",
       "      <td>Grove St PATH</td>\n",
       "      <td>40.719586</td>\n",
       "      <td>...</td>\n",
       "      <td>1972</td>\n",
       "      <td>Female</td>\n",
       "      <td>0.465771</td>\n",
       "      <td>NaN</td>\n",
       "      <td>June</td>\n",
       "      <td>Monday</td>\n",
       "      <td>1</td>\n",
       "      <td>48</td>\n",
       "      <td>4.43</td>\n",
       "      <td>6.31</td>\n",
       "    </tr>\n",
       "  </tbody>\n",
       "</table>\n",
       "<p>5 rows × 23 columns</p>\n",
       "</div>"
      ],
      "text/plain": [
       "   tripduration                starttime                 stoptime  \\\n",
       "0           122  2020-06-01 00:02:21.750  2020-06-01 00:04:24.325   \n",
       "1          1282  2020-06-01 00:12:27.109  2020-06-01 00:33:50.054   \n",
       "2           186  2020-06-01 01:19:59.209  2020-06-01 01:23:05.893   \n",
       "3           131  2020-06-01 01:26:42.205  2020-06-01 01:28:53.804   \n",
       "4           266  2020-06-01 01:27:33.709  2020-06-01 01:32:00.189   \n",
       "\n",
       "   start_station_id          start_station_name  start_station_latitude  \\\n",
       "0              3792  Columbus Dr at Exchange Pl               40.716870   \n",
       "1              3198            Heights Elevator               40.748716   \n",
       "2              3275              Columbus Drive               40.718355   \n",
       "3              3267                Morris Canal               40.712419   \n",
       "4              3639                  Harborside               40.719252   \n",
       "\n",
       "   start_station_longitude  end_station_id  end_station_name  \\\n",
       "0               -74.032810            3639        Harborside   \n",
       "1               -74.040443            3276  Marin Light Rail   \n",
       "2               -74.038914            3681          Grand St   \n",
       "3               -74.038526            3681          Grand St   \n",
       "4               -74.034234            3186     Grove St PATH   \n",
       "\n",
       "   end_station_latitude  ...  birth_year  gender distance_miles  start_date  \\\n",
       "0             40.719252  ...        1987    Male       0.180668         NaN   \n",
       "1             40.714584  ...        1988    Male       2.361559         NaN   \n",
       "2             40.715178  ...        1987    Male       0.228816         NaN   \n",
       "3             40.715178  ...        1987    Male       0.195655         NaN   \n",
       "4             40.719586  ...        1972  Female       0.465771         NaN   \n",
       "\n",
       "  month     day  start_hourofday user_age duration_minutes  speed  \n",
       "0  June  Monday                0       33             2.03   5.34  \n",
       "1  June  Monday                0       32            21.37   6.63  \n",
       "2  June  Monday                1       33             3.10   4.43  \n",
       "3  June  Monday                1       33             2.18   5.38  \n",
       "4  June  Monday                1       48             4.43   6.31  \n",
       "\n",
       "[5 rows x 23 columns]"
      ]
     },
     "execution_count": 45,
     "metadata": {},
     "output_type": "execute_result"
    }
   ],
   "source": [
    "df_master = pd.read_csv('Newyork-2020-citibike-master-data.csv')\n",
    "df_master.head(5)"
   ]
  },
  {
   "cell_type": "code",
   "execution_count": 46,
   "metadata": {},
   "outputs": [
    {
     "data": {
      "text/plain": [
       "(27946, 23)"
      ]
     },
     "execution_count": 46,
     "metadata": {},
     "output_type": "execute_result"
    }
   ],
   "source": [
    "df_master.shape"
   ]
  },
  {
   "cell_type": "code",
   "execution_count": 47,
   "metadata": {},
   "outputs": [
    {
     "name": "stdout",
     "output_type": "stream",
     "text": [
      "<class 'pandas.core.frame.DataFrame'>\n",
      "RangeIndex: 27946 entries, 0 to 27945\n",
      "Data columns (total 23 columns):\n",
      " #   Column                   Non-Null Count  Dtype  \n",
      "---  ------                   --------------  -----  \n",
      " 0   tripduration             27946 non-null  int64  \n",
      " 1   starttime                27946 non-null  object \n",
      " 2   stoptime                 27946 non-null  object \n",
      " 3   start_station_id         27946 non-null  int64  \n",
      " 4   start_station_name       27946 non-null  object \n",
      " 5   start_station_latitude   27946 non-null  float64\n",
      " 6   start_station_longitude  27946 non-null  float64\n",
      " 7   end_station_id           27946 non-null  int64  \n",
      " 8   end_station_name         27946 non-null  object \n",
      " 9   end_station_latitude     27946 non-null  float64\n",
      " 10  end_station_longitude    27946 non-null  float64\n",
      " 11  bikeid                   27946 non-null  int64  \n",
      " 12  usertype                 27946 non-null  object \n",
      " 13  birth_year               27946 non-null  int64  \n",
      " 14  gender                   27946 non-null  object \n",
      " 15  distance_miles           27946 non-null  float64\n",
      " 16  start_date               0 non-null      float64\n",
      " 17  month                    27946 non-null  object \n",
      " 18  day                      27946 non-null  object \n",
      " 19  start_hourofday          27946 non-null  int64  \n",
      " 20  user_age                 27946 non-null  int64  \n",
      " 21  duration_minutes         27946 non-null  float64\n",
      " 22  speed                    27946 non-null  float64\n",
      "dtypes: float64(8), int64(7), object(8)\n",
      "memory usage: 4.9+ MB\n"
     ]
    }
   ],
   "source": [
    "df_master.info()"
   ]
  },
  {
   "cell_type": "code",
   "execution_count": 48,
   "metadata": {},
   "outputs": [
    {
     "data": {
      "text/plain": [
       "tripduration                   0\n",
       "starttime                      0\n",
       "stoptime                       0\n",
       "start_station_id               0\n",
       "start_station_name             0\n",
       "start_station_latitude         0\n",
       "start_station_longitude        0\n",
       "end_station_id                 0\n",
       "end_station_name               0\n",
       "end_station_latitude           0\n",
       "end_station_longitude          0\n",
       "bikeid                         0\n",
       "usertype                       0\n",
       "birth_year                     0\n",
       "gender                         0\n",
       "distance_miles                 0\n",
       "start_date                 27946\n",
       "month                          0\n",
       "day                            0\n",
       "start_hourofday                0\n",
       "user_age                       0\n",
       "duration_minutes               0\n",
       "speed                          0\n",
       "dtype: int64"
      ]
     },
     "execution_count": 48,
     "metadata": {},
     "output_type": "execute_result"
    }
   ],
   "source": [
    "# checking null values\n",
    "df_master.isna().sum()"
   ]
  },
  {
   "cell_type": "code",
   "execution_count": 49,
   "metadata": {},
   "outputs": [
    {
     "data": {
      "text/plain": [
       "0"
      ]
     },
     "execution_count": 49,
     "metadata": {},
     "output_type": "execute_result"
    }
   ],
   "source": [
    "# checking duplicated values\n",
    "df_master.duplicated().sum()"
   ]
  },
  {
   "cell_type": "markdown",
   "metadata": {},
   "source": [
    "## Univariant Analysis"
   ]
  },
  {
   "cell_type": "markdown",
   "metadata": {},
   "source": [
    "### Exploring distribution of user age "
   ]
  },
  {
   "cell_type": "code",
   "execution_count": 50,
   "metadata": {},
   "outputs": [
    {
     "data": {
      "image/png": "[encoded data removed]",
      "text/plain": [
       "<Figure size 1440x360 with 3 Axes>"
      ]
     },
     "metadata": {
      "needs_background": "light"
     },
     "output_type": "display_data"
    }
   ],
   "source": [
    "# Exploring User Age Statistics using different charts such as boxplot, histogram, and violin plot\n",
    "plt.figure(figsize = [20, 5])\n",
    "\n",
    "plt.subplot(1,3,1)\n",
    "sns.boxplot(data = df_master, y = 'user_age')\n",
    "plt.ylabel(\"Age\")\n",
    "plt.title(\"Boxplot for Age\",fontsize = 16, fontweight = 'bold');\n",
    "\n",
    "plt.subplot(1, 3, 2)\n",
    "bins = np.arange(df_master.user_age.min()-2, df_master.user_age.max()+2,2)\n",
    "plt.hist(df_master.user_age, bins = bins)\n",
    "plt.xlabel(\"Age\")\n",
    "plt.ylabel(\"User Counts\")\n",
    "plt.title(\"Histogram Plot for Age\",fontsize = 16, fontweight = 'bold');\n",
    "\n",
    "plt.subplot(1, 3, 3)\n",
    "sns.violinplot(data = df_master, y = 'user_age')\n",
    "plt.ylabel(\"Age\")\n",
    "plt.xlabel(\"Frequency\")\n",
    "plt.title(\"Violinplot for Age\",fontsize = 16, fontweight = 'bold');\n"
   ]
  },
  {
   "cell_type": "markdown",
   "metadata": {},
   "source": [
    "#### Based on the Histogram plot, frequency is high for age between 50-55"
   ]
  },
  {
   "cell_type": "markdown",
   "metadata": {},
   "source": [
    "### Distribution of distance travelled"
   ]
  },
  {
   "cell_type": "code",
   "execution_count": 51,
   "metadata": {},
   "outputs": [
    {
     "data": {
      "image/png": "[encoded data removed]",
      "text/plain": [
       "<Figure size 1008x432 with 1 Axes>"
      ]
     },
     "metadata": {
      "needs_background": "light"
     },
     "output_type": "display_data"
    }
   ],
   "source": [
    "# Exploring distribution of Distance covered by users using histogram chart. This is step perofmed as univariate analysis\n",
    "plt.figure(figsize=(14,6))\n",
    "bins = np.arange(0, df_master.distance_miles.max()+2, .5)\n",
    "ticks = np.arange(0, df_master.distance_miles.max()+2, .5)\n",
    "plt.hist(data=df_master, x='distance_miles', bins=bins, color='blue', alpha = .5)\n",
    "plt.xticks(ticks);\n",
    "plt.xlabel('Trip Distance in Miles')\n",
    "plt.ylabel('Counts')\n",
    "plt.title('Distribution Distance in Miles',fontsize = 16, fontweight = 'bold');"
   ]
  },
  {
   "cell_type": "markdown",
   "metadata": {},
   "source": [
    "## Most of our users has travelled distance between 0.5 - 1 miles"
   ]
  },
  {
   "cell_type": "code",
   "execution_count": 52,
   "metadata": {},
   "outputs": [
    {
     "data": {
      "image/png": "[encoded data removed]",
      "text/plain": [
       "<Figure size 1008x432 with 1 Axes>"
      ]
     },
     "metadata": {
      "needs_background": "light"
     },
     "output_type": "display_data"
    }
   ],
   "source": [
    "# Creating chart to see how users are distributed by gender\n",
    "plt.figure(figsize=(14,6))\n",
    "gender_value = df_master.gender.value_counts().index\n",
    "sns.countplot(data=df_master, x='gender', color=\"blue\", alpha =.5, order =gender_value );\n",
    "plt.xlabel('Gender');\n",
    "plt.ylabel('Count')\n",
    "plt.title('Users by Gender',fontsize = 16, fontweight = 'bold');"
   ]
  },
  {
   "cell_type": "markdown",
   "metadata": {},
   "source": [
    "### Male user are more compare to other two types"
   ]
  },
  {
   "cell_type": "code",
   "execution_count": 53,
   "metadata": {},
   "outputs": [
    {
     "data": {
      "text/plain": [
       "Subscriber    17053\n",
       "Customer      10893\n",
       "Name: usertype, dtype: int64"
      ]
     },
     "execution_count": 53,
     "metadata": {},
     "output_type": "execute_result"
    }
   ],
   "source": [
    "# using value_counts function of pandas to see usertype\n",
    "df_master['usertype'].value_counts()"
   ]
  },
  {
   "cell_type": "code",
   "execution_count": 54,
   "metadata": {},
   "outputs": [
    {
     "data": {
      "image/png": "[encoded data removed]",
      "text/plain": [
       "<Figure size 432x288 with 1 Axes>"
      ]
     },
     "metadata": {},
     "output_type": "display_data"
    }
   ],
   "source": [
    "ax=df_master.usertype.value_counts().plot.pie(explode = (0.05,0.05),autopct='%1.1f%%',counterclock = False)\n",
    "plt.title('Distribution of Subscribers by UserType',fontsize = 16, fontweight = 'bold');"
   ]
  },
  {
   "cell_type": "markdown",
   "metadata": {},
   "source": [
    "## Most of the user's in our data are the subscribers which is 61%."
   ]
  },
  {
   "cell_type": "markdown",
   "metadata": {},
   "source": [
    "## Exploring the dataset to check on which day highest number of users"
   ]
  },
  {
   "cell_type": "code",
   "execution_count": 55,
   "metadata": {},
   "outputs": [
    {
     "data": {
      "image/png": "[encoded data removed]",
      "text/plain": [
       "<Figure size 1008x432 with 1 Axes>"
      ]
     },
     "metadata": {
      "needs_background": "light"
     },
     "output_type": "display_data"
    }
   ],
   "source": [
    "# creating bar to see bike usage by days\n",
    "plt.figure(figsize=(14,6))\n",
    "df_master.groupby('day')['bikeid'].count().plot(kind ='bar', color = 'blue', alpha=.5)\n",
    "plt.xlabel('day');\n",
    "plt.ylabel('Count')\n",
    "plt.title('Users by weekday',fontsize = 16, fontweight = 'bold');"
   ]
  },
  {
   "cell_type": "markdown",
   "metadata": {},
   "source": [
    "#### Mostly Saturday and Sundays the usage of cycles is more"
   ]
  },
  {
   "cell_type": "code",
   "execution_count": 56,
   "metadata": {},
   "outputs": [
    {
     "data": {
      "text/plain": [
       "<Figure size 1440x432 with 0 Axes>"
      ]
     },
     "metadata": {},
     "output_type": "display_data"
    },
    {
     "data": {
      "image/png": "[encoded data removed]",
      "text/plain": [
       "<Figure size 360x360 with 1 Axes>"
      ]
     },
     "metadata": {
      "needs_background": "light"
     },
     "output_type": "display_data"
    }
   ],
   "source": [
    "# creating bar to see bike uage by hours of day\n",
    "plt.figure(figsize=(20, 6))\n",
    "sns.catplot(data = df_master, x='start_hourofday', kind='count', color=\"blue\", alpha=.5)\n",
    "plt.xlabel('Time - Hour');\n",
    "plt.ylabel('Count')\n",
    "plt.title('Users by Time - Hour',fontsize = 16, fontweight = 'bold');"
   ]
  },
  {
   "cell_type": "markdown",
   "metadata": {},
   "source": [
    "### Usually in the Evening times i.e 4 - 8 pm the usage of bikes is more."
   ]
  },
  {
   "cell_type": "markdown",
   "metadata": {},
   "source": [
    "## Top Ten Stations"
   ]
  },
  {
   "cell_type": "code",
   "execution_count": 57,
   "metadata": {},
   "outputs": [
    {
     "data": {
      "image/png": "[encoded data removed]",
      "text/plain": [
       "<Figure size 720x576 with 1 Axes>"
      ]
     },
     "metadata": {
      "needs_background": "light"
     },
     "output_type": "display_data"
    }
   ],
   "source": [
    "# creating bar to see bike frequency by start station\n",
    "plt.figure(figsize=(10, 8))\n",
    "ax = df_master.start_station_name.value_counts().sort_values(ascending =False)[:10].plot(kind='barh',color=\"blue\",alpha=.5)\n",
    "plt.title('Top 10 Start Station',fontsize = 16, fontweight = 'bold')\n",
    "ax.set_xlabel('Frequency')\n",
    "ax.set_ylabel(\"Start Station\");"
   ]
  },
  {
   "cell_type": "code",
   "execution_count": 58,
   "metadata": {},
   "outputs": [
    {
     "data": {
      "image/png": "[encoded data removed]",
      "text/plain": [
       "<Figure size 720x576 with 1 Axes>"
      ]
     },
     "metadata": {
      "needs_background": "light"
     },
     "output_type": "display_data"
    }
   ],
   "source": [
    "# creating bar to see bike frequency by end station\n",
    "plt.figure(figsize=(10, 8))\n",
    "ax = df_master.end_station_name.value_counts().sort_values(ascending =False)[:10].plot(kind='barh',color=\"blue\",alpha=.5)\n",
    "plt.title('Top 10 Start Station',fontsize = 16, fontweight = 'bold')\n",
    "ax.set_xlabel('Frequency')\n",
    "ax.set_ylabel(\"Start Station\");"
   ]
  },
  {
   "cell_type": "markdown",
   "metadata": {},
   "source": [
    "#### Newport pkwy and Grove St PATH are busiest station in terms of both start and end stations."
   ]
  },
  {
   "cell_type": "markdown",
   "metadata": {},
   "source": [
    "### Overall, based on Univariant analysis we have observe that:\n",
    "\n",
    "> The frequency of users age is between 50-55.  \n",
    "> Maximum users travelled distance of 0.5-1 miles/hour. \n",
    "> Male Users are more compare to female users and unknown users. \n",
    "> Most of the users in our data are subscribers which is 61%. \n",
    "> On Weekends usage of service is more. \n",
    "> During Evening time between 4 - 8 pm usage is more. \n",
    "> Newport pkwy and Grove St PATH are busiest station in terms of both start and end stations."
   ]
  },
  {
   "cell_type": "markdown",
   "metadata": {},
   "source": [
    "## Bivariant Analysis"
   ]
  },
  {
   "cell_type": "markdown",
   "metadata": {},
   "source": [
    "## Trip duration VS User Type"
   ]
  },
  {
   "cell_type": "code",
   "execution_count": 59,
   "metadata": {},
   "outputs": [
    {
     "data": {
      "image/png": "[encoded data removed]",
      "text/plain": [
       "<Figure size 1008x432 with 1 Axes>"
      ]
     },
     "metadata": {
      "needs_background": "light"
     },
     "output_type": "display_data"
    }
   ],
   "source": [
    "plt.figure(figsize=(14,6))\n",
    "sns.barplot(data=df_master, x='day', y='duration_minutes',hue='usertype');\n",
    "plt.xlabel('Day of Week');\n",
    "plt.ylabel('Trip Duration in Minute')\n",
    "plt.title('Trip Duration by User Type',fontsize = 16, fontweight = 'bold');"
   ]
  },
  {
   "cell_type": "markdown",
   "metadata": {},
   "source": [
    "### Customer user type has more trip duration compared to subsciber and it fluctuates in the week"
   ]
  },
  {
   "cell_type": "markdown",
   "metadata": {},
   "source": [
    "## Distance vs users"
   ]
  },
  {
   "cell_type": "code",
   "execution_count": 60,
   "metadata": {},
   "outputs": [
    {
     "data": {
      "image/png": "[encoded data removed]",
      "text/plain": [
       "<Figure size 1008x432 with 1 Axes>"
      ]
     },
     "metadata": {
      "needs_background": "light"
     },
     "output_type": "display_data"
    }
   ],
   "source": [
    "# creating viloin chart to see distribution of distance by user type\n",
    "plt.figure(figsize=(14,6))\n",
    "sns.violinplot(data=df_master, x='usertype', y='distance_miles', palette='Blues',inner='quartile');\n",
    "plt.xlabel('User Type');\n",
    "plt.ylabel('Distance- miles')\n",
    "plt.title('Distance in Miles by User Types',fontsize = 16, fontweight = 'bold');"
   ]
  },
  {
   "cell_type": "markdown",
   "metadata": {},
   "source": [
    "#### Difference in user type is not significant in terms of distance covered and customer covered slightly more distances"
   ]
  },
  {
   "cell_type": "markdown",
   "metadata": {},
   "source": [
    "## Distance Vs Gender"
   ]
  },
  {
   "cell_type": "code",
   "execution_count": 61,
   "metadata": {},
   "outputs": [
    {
     "data": {
      "text/plain": [
       "Text(0, 0.5, 'Distance- miles')"
      ]
     },
     "execution_count": 61,
     "metadata": {},
     "output_type": "execute_result"
    },
    {
     "data": {
      "image/png": "[encoded data removed]",
      "text/plain": [
       "<Figure size 1008x432 with 1 Axes>"
      ]
     },
     "metadata": {
      "needs_background": "light"
     },
     "output_type": "display_data"
    }
   ],
   "source": [
    "# creating Boxplot chart to see distribution of distance by Gender\n",
    "plt.figure(figsize=(14,6))\n",
    "sns.boxplot(data=df_master, x='gender', y = 'distance_miles', palette='Blues')\n",
    "plt.title(\"Distance in Miles by Gender\", fontsize=22, y=1.03)\n",
    "plt.xlabel(\"Gender\")\n",
    "plt.ylabel('Distance- miles')"
   ]
  },
  {
   "cell_type": "markdown",
   "metadata": {},
   "source": [
    "#### There is no significant difference observed in gender in terms of distance covered."
   ]
  },
  {
   "cell_type": "code",
   "execution_count": 62,
   "metadata": {},
   "outputs": [
    {
     "data": {
      "image/png": "[encoded data removed]",
      "text/plain": [
       "<Figure size 1008x432 with 1 Axes>"
      ]
     },
     "metadata": {
      "needs_background": "light"
     },
     "output_type": "display_data"
    }
   ],
   "source": [
    "# creating Boxplot chart to see distribution of dAge by user type\n",
    "plt.figure(figsize=(14,6))\n",
    "sns.boxplot(data=df_master, x='usertype', y='user_age', palette='Blues');\n",
    "plt.xlabel('User Type');\n",
    "plt.ylabel('users Age')\n",
    "plt.title('Users Age by User Type',fontsize = 16, fontweight = 'bold');"
   ]
  },
  {
   "cell_type": "markdown",
   "metadata": {},
   "source": [
    "#### Based on the observation subsribers more younger than customer. median age for subscribers is 35 while for customers is 38"
   ]
  },
  {
   "cell_type": "markdown",
   "metadata": {},
   "source": [
    "### Based on BIvariant analysis, following conclusion are made:\n",
    "> Customer user type has more trip duration than subscribers which further means that distance covered by customers is slightly more.\n",
    "> Significant difference in terms of distance by gender is not found. Subscribers are younger than customers as per the mean age of both types."
   ]
  },
  {
   "cell_type": "markdown",
   "metadata": {},
   "source": [
    "## Multivariate Exploration\n",
    "\n",
    "> Create plots of three or more variables to investigate your data even\n",
    "further. Make sure that your investigations are justified, and follow from\n",
    "your work in the previous sections."
   ]
  },
  {
   "cell_type": "code",
   "execution_count": 63,
   "metadata": {},
   "outputs": [
    {
     "data": {
      "image/png": "[encoded data removed]",
      "text/plain": [
       "<Figure size 720x720 with 2 Axes>"
      ]
     },
     "metadata": {
      "needs_background": "light"
     },
     "output_type": "display_data"
    }
   ],
   "source": [
    "# creating Corelation chart to see correlation between diffrent features in dataset\n",
    "plt.figure(figsize = [10, 10])\n",
    "sns.heatmap(df_master.corr(), annot = True, fmt = '.3f', cmap = 'vlag_r', center = 0);"
   ]
  },
  {
   "cell_type": "code",
   "execution_count": 64,
   "metadata": {},
   "outputs": [],
   "source": [
    "# creating list of measures which I am going to use in pair grid analysis\n",
    "numeric_vars = ['duration_minutes', 'user_age', 'distance_miles']"
   ]
  },
  {
   "cell_type": "code",
   "execution_count": 65,
   "metadata": {},
   "outputs": [
    {
     "data": {
      "image/png": "[encoded data removed]",
      "text/plain": [
       "<Figure size 1296x864 with 12 Axes>"
      ]
     },
     "metadata": {
      "needs_background": "light"
     },
     "output_type": "display_data"
    }
   ],
   "source": [
    "# creating pair grid charts, and using 1000 sample of data to make analysis faster\n",
    "g = sns.PairGrid(data = df_master.sample(1000), vars = numeric_vars, height = 4, aspect = 1.5)\n",
    "g = g.map_diag(plt.hist, bins = 20);\n",
    "g.map_offdiag(plt.scatter);"
   ]
  },
  {
   "cell_type": "markdown",
   "metadata": {},
   "source": [
    "### There is no strong correlation in any factors."
   ]
  },
  {
   "cell_type": "code",
   "execution_count": 66,
   "metadata": {},
   "outputs": [
    {
     "data": {
      "text/plain": [
       "Text(60.0, 0.5, 'Start Time Hour')"
      ]
     },
     "execution_count": 66,
     "metadata": {},
     "output_type": "execute_result"
    },
    {
     "data": {
      "text/plain": [
       "<Figure size 1008x720 with 0 Axes>"
      ]
     },
     "metadata": {},
     "output_type": "display_data"
    },
    {
     "data": {
      "image/png": "[encoded data removed]",
      "text/plain": [
       "<Figure size 648x576 with 2 Axes>"
      ]
     },
     "metadata": {
      "needs_background": "light"
     },
     "output_type": "display_data"
    }
   ],
   "source": [
    "# creating heatmap for customers  for hourly usage of bike on weekdays as a multivarite chart\n",
    "plt.figure(figsize=(14,10))\n",
    "df_master['day'] = pd.Categorical(df_master['day'], \n",
    "                                                categories=['Monday', 'Tuesday', 'Wednesday', 'Thursday', 'Friday', 'Saturday', 'Sunday'], \n",
    "                                                ordered=True)\n",
    "plt.figure(figsize=(9,8))\n",
    "\n",
    "df_customer = df_master.query('usertype == \"Customer\"').groupby([\"start_hourofday\", \"day\"])[\"bikeid\"].size().reset_index()\n",
    "df_customer = df_customer.pivot(\"start_hourofday\", \"day\", \"bikeid\")\n",
    "sns.heatmap(df_customer, cmap=\"rocket_r\")\n",
    "\n",
    "plt.title(\"Hourly Usgae on Weekdays for Customer\", fontsize = 16, fontweight = 'bold');\n",
    "plt.xlabel('Weekday')\n",
    "plt.ylabel('Start Time Hour')"
   ]
  },
  {
   "cell_type": "markdown",
   "metadata": {},
   "source": [
    "### In Customer types, On weekend evenings more users are using the service"
   ]
  },
  {
   "cell_type": "code",
   "execution_count": 67,
   "metadata": {},
   "outputs": [
    {
     "data": {
      "text/plain": [
       "<Figure size 1008x720 with 0 Axes>"
      ]
     },
     "metadata": {},
     "output_type": "display_data"
    },
    {
     "data": {
      "image/png": "[encoded data removed]",
      "text/plain": [
       "<Figure size 648x576 with 2 Axes>"
      ]
     },
     "metadata": {
      "needs_background": "light"
     },
     "output_type": "display_data"
    }
   ],
   "source": [
    "# creating heatmap for subscribers  for hourly usage of bike on weekdays as a multivarite chart\n",
    "plt.figure(figsize=(14,10))\n",
    "df_master['day'] = pd.Categorical(df_master['day'], \n",
    "                                                categories=['Monday', 'Tuesday', 'Wednesday', 'Thursday', 'Friday', 'Saturday', 'Sunday'], \n",
    "                                                ordered=True)\n",
    "plt.figure(figsize=(9,8))\n",
    "\n",
    "df_customer = df_master.query('usertype == \"Subscriber\"').groupby([\"start_hourofday\", \"day\"])[\"bikeid\"].size().reset_index()\n",
    "df_customer = df_customer.pivot(\"start_hourofday\", \"day\", \"bikeid\")\n",
    "sns.heatmap(df_customer, cmap=\"rocket_r\")\n",
    "\n",
    "plt.title(\"Hourly Usage on Weekdays for Subscribers\", fontsize = 16, fontweight = 'bold');\n",
    "plt.xlabel('Weekday')\n",
    "plt.ylabel('Start Time Hour');"
   ]
  },
  {
   "cell_type": "markdown",
   "metadata": {},
   "source": [
    "### In subscribers, Monday and tesday the user are more in the night"
   ]
  },
  {
   "cell_type": "markdown",
   "metadata": {},
   "source": [
    "### Based on multivariant analysis, observations found are:\n",
    "\n",
    "#### None of factores has strong correleation. most of the customers use the service on weekends and for subscribers it is moreon weekdays"
   ]
  },
  {
   "cell_type": "code",
   "execution_count": null,
   "metadata": {},
   "outputs": [],
   "source": []
  }
 ],
 "metadata": {
  "kernelspec": {
   "display_name": "Python 3",
   "language": "python",
   "name": "python3"
  },
  "language_info": {
   "codemirror_mode": {
    "name": "ipython",
    "version": 3
   },
   "file_extension": ".py",
   "mimetype": "text/x-python",
   "name": "python",
   "nbconvert_exporter": "python",
   "pygments_lexer": "ipython3",
   "version": "3.7.4"
  }
 },
 "nbformat": 4,
 "nbformat_minor": 2
}
